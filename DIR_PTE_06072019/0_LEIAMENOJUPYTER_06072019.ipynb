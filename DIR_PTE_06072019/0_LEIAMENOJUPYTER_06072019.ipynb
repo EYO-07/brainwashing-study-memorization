{
 "cells": [
  {
   "cell_type": "markdown",
   "metadata": {},
   "source": [
    "# Rotina de Estudo e Memorização - BrainWasher\n",
    "\n",
    "Este algoritmo faz parte do paradigma de estudo trialético, o paradigma de estudo trialético consiste em três etapas: \n",
    "\n",
    "1. <b>Memorização ~ Emoção</b>: Parte do estudo em que se cria fórmulas, em que se cria nomes, em que se cria artifícios para facilitar a memorização de uma teoria.\n",
    "2. <b>Análise ~ Intelecto </b>: Parte do estudo com o objetivo de analisar o conteúdo de verdade da teoria, analisar demonstrações, analisar deduções, fazer perguntas.\n",
    "3. <b>Aplicação ~ Vontade </b>: Parte do estudo que tem como objetivo utilizar a teoria para finalidades práticas, que inclui também resolução de exercícios teóricos, implementação computacional ou mesmo desenvolvimento de teorias axiomáticas.\n",
    "\n",
    "A motivação da trialética é filosófica, a trialética (Emoção, Intelecto, Vontade) corresponde aos três eixos da mente, os três desejos que a consciência humana busca satisfazer associados a percepção, a compreensão e a ação. \n",
    "\n",
    "Este algoritmo cuida da parte da <b>memorização</b>, a parte de <b>análise</b> e <b>aplicação</b> devem ser feitas utilizando outros recursos (recursos tradicionais ou versões modificadas deste algoritmo). A justificativa para ser dada atenção separada a parte da memorização é que a medida que a cultura humana se torna mais complicada, estamos gastando muito tempo com estudo.\n",
    "\n",
    "Dentro da <b>memorização</b> temos dois outros tipos de estudo, a <b>invocação</b> que tem como objetivo enumerar o maior número de informações sobre determinado tópico e o processo de <b>resgate</b> que tem como objetivo a partir de um nome ou de uma descrição vaga, resgatar seu conteúdo preciso.\n",
    "\n",
    "Defino como o <b>estudo tradicional</b> o estudo dividido nas etapas de <b>Exposição de Conteúdo</b> e <b>Exercícios</b>. O estudo tradicional deixa implícito a parte de memorização de conteúdo, a Exposição de Conteúdo Corresponde a Junção entre a Parte de Memorização e a parte de Análise. No método trialético cada etapa deve ser executada com o mesmo cuidado, e a etapa mais elementar é a de <b>memorização</b>, sem memorização não existe <b>raciocínio</b>.\n",
    "\n",
    "O paradigma de estudo trialético tem como objetivo contornar o problema da falta de tempo e da densidade de conteúdo com o uso de algoritmos pseudoaleatórios para auxiliar na memorização, etapa esta que exige maior esforço e que é menos divertida do que as outras duas subsequentes.\n",
    "\n",
    "Este método tenta preservar uma <b>uniformidade</b> entre as informações, diferente de uma exposição oral que tem caráter <b>linear</b>, ou uma exposição de uma teoria, as informações memorizadas por este método tem como objetivo uma associação uniforme entre o assunto e os conteúdos. É útil quando o objetivo é aplicar o conhecimento, mas não tão útil quando o objetivo for a sua exposição."
   ]
  },
  {
   "cell_type": "markdown",
   "metadata": {},
   "source": [
    "# ALGORITMO"
   ]
  },
  {
   "cell_type": "code",
   "execution_count": 2,
   "metadata": {
    "collapsed": true
   },
   "outputs": [],
   "source": [
    "# Rode esta celula para carregar a classe digestor versão 12\n",
    "%run textInterface06072019.py"
   ]
  },
  {
   "cell_type": "code",
   "execution_count": null,
   "metadata": {
    "collapsed": true
   },
   "outputs": [],
   "source": [
    "# Para alterar/vizualizar o conteúdo do digestor rode %load digestor12.py\n",
    "# Para sobrescrever o conteúdo do digestor rode %%writefile digestor12.py"
   ]
  },
  {
   "cell_type": "markdown",
   "metadata": {},
   "source": [
    "# EXEMPLO DE USO"
   ]
  },
  {
   "cell_type": "markdown",
   "metadata": {},
   "source": [
    "## 1) Digestor Normal\n",
    "\n",
    "Neste modo de estudo o programa irá sortear (caso haja inventário de nomes) informações do inventário de informações. Caso você lembre do conteúdo preciso (traduzir o nome para o significado, escrever a fórmula, enunciar o teorema) então você deve digitar +, caso contrário deve digitar -. \n",
    "\n",
    "Quando o progresso chegar a 100 % você deve aumentar o nível (funciona como estudo repetitivo). \n",
    "\n",
    "Para adicionar informações basta digitar o nome da informação seguido de ponto de interrogação. Para adicionar muitplas informações separe usando o separador (no caso abaixo o ponto e vírgula). \n",
    "\n",
    "Também é possível fornecer informações usando uma variável string do python, basta colocar INVENTARIO=nome_da_variavel.\n",
    "\n",
    "Para sair e salvar o arquivo digite @exit"
   ]
  },
  {
   "cell_type": "code",
   "execution_count": 13,
   "metadata": {
    "collapsed": false
   },
   "outputs": [
    {
     "name": "stdout",
     "output_type": "stream",
     "text": [
      "Parametros de Configuracao Salvos em Arquivo : config/ARQUIVO_TESTE1_config\n",
      "\u001b[48;2;0;0;0m\u001b[38;2;255;0;0m Nivel : 0 : [------------------------------------------] 0.0 % \u001b[38;2;0;0;0m\u001b[48;2;255;255;255m\n",
      "\u001b[48;2;0;0;0m\u001b[38;2;255;0;0m Nivel : 1 : [------------------------------------------] 0.0 % \u001b[38;2;0;0;0m\u001b[48;2;255;255;255m\n",
      "\u001b[48;2;0;0;0m\u001b[38;2;255;0;0m Nivel : 2 : [------------------------------------------] 0.0 % \u001b[38;2;0;0;0m\u001b[48;2;255;255;255m\n",
      "\u001b[48;2;0;0;0m\u001b[38;2;255;0;0m Nivel : 3 : [------------------------------------------] 0.0 % \u001b[38;2;0;0;0m\u001b[48;2;255;255;255m\n",
      "\u001b[48;2;0;0;0m\u001b[38;2;255;0;0m Nivel : 4 : [------------------------------------------] 0.0 % \u001b[38;2;0;0;0m\u001b[48;2;255;255;255m\n",
      "\u001b[48;2;0;0;0m\u001b[38;2;255;0;0m Nivel : 5 : [------------------------------------------] 0.0 % \u001b[38;2;0;0;0m\u001b[48;2;255;255;255m\n",
      "Programa Terminado com Sucesso\n"
     ]
    }
   ],
   "source": [
    "# rode esta celula para executar rotina digestor de estudo normal\n",
    "DG_01 = digestor(INVENTARIO=None,SEPARADOR=';',ARQUIVOSAVE='ARQUIVO_TESTE1')\n",
    "DG_01.topicoPrincipal = ' Teoria [ Sem Nome ] : digite @set char para configurar o nome da teoria '\n",
    "DG_01.estudo(NIVEL=0) # caso nao consiga carregar a interface aumente o NIVEL"
   ]
  },
  {
   "cell_type": "markdown",
   "metadata": {},
   "source": [
    "## 2) Digestor em Modo Invocativo e Estudo \n",
    "\n",
    "O modo invocativo consiste em tentar lembrar do máximo número de informações da teoria associada a palavra-chave em um período limitado de tempo. Depois de terminado o modo invocativo o modo de estudo normal é ativado. Existem comandos para mudar os modos de estudo manualmente, digite @help para ter essas informações."
   ]
  },
  {
   "cell_type": "code",
   "execution_count": 14,
   "metadata": {
    "collapsed": false
   },
   "outputs": [
    {
     "name": "stdout",
     "output_type": "stream",
     "text": [
      "Parametros de Configuracao Salvos em Arquivo : config/ARQUIVO_TESTE2_config\n",
      "\u001b[48;2;0;0;0m\u001b[38;2;255;0;0m Nivel : 0 : [------------------------------------------] 0.0 % \u001b[38;2;0;0;0m\u001b[48;2;255;255;255m\n",
      "\u001b[48;2;0;0;0m\u001b[38;2;255;0;0m Nivel : 1 : [------------------------------------------] 0.0 % \u001b[38;2;0;0;0m\u001b[48;2;255;255;255m\n",
      "\u001b[48;2;0;0;0m\u001b[38;2;255;0;0m Nivel : 2 : [------------------------------------------] 0.0 % \u001b[38;2;0;0;0m\u001b[48;2;255;255;255m\n",
      "\u001b[48;2;0;0;0m\u001b[38;2;255;0;0m Nivel : 3 : [------------------------------------------] 0.0 % \u001b[38;2;0;0;0m\u001b[48;2;255;255;255m\n",
      "\u001b[48;2;0;0;0m\u001b[38;2;255;0;0m Nivel : 4 : [------------------------------------------] 0.0 % \u001b[38;2;0;0;0m\u001b[48;2;255;255;255m\n",
      "\u001b[48;2;0;0;0m\u001b[38;2;255;0;0m Nivel : 5 : [------------------------------------------] 0.0 % \u001b[38;2;0;0;0m\u001b[48;2;255;255;255m\n",
      "Programa Terminado com Sucesso\n"
     ]
    }
   ],
   "source": [
    "# digestor inicializando com modo invocativo e depois estudo normal\n",
    "DG_02 = digestor_InvEst(arquivosave='ARQUIVO_TESTE2')\n",
    "DG_02.estudo(NIVEL=0) # caso nao consiga carregar a interface aumente o NIVEL"
   ]
  },
  {
   "cell_type": "markdown",
   "metadata": {},
   "source": [
    "## 3) Digestor em Modo Invocativo e Modo Expansão\n",
    "\n",
    "O modo expasão consiste em um modo que alterna entre estudo e expansão da teoria, ele força você a expandir a teoria. Neste modo recomenda-se usar [ @set last page ] para gravar a última página lida da fonte da teoria (livro), para resgatar a informação basta digitar [ @last page ]."
   ]
  },
  {
   "cell_type": "code",
   "execution_count": 15,
   "metadata": {
    "collapsed": false
   },
   "outputs": [
    {
     "name": "stdout",
     "output_type": "stream",
     "text": [
      "Parametros de Configuracao Salvos em Arquivo : config/ARQUIVO_TESTE3_config\n",
      "\u001b[48;2;0;0;0m\u001b[38;2;255;0;0m Nivel : 0 : [------------------------------------------] 0.0 % \u001b[38;2;0;0;0m\u001b[48;2;255;255;255m\n",
      "\u001b[48;2;0;0;0m\u001b[38;2;255;0;0m Nivel : 1 : [------------------------------------------] 0.0 % \u001b[38;2;0;0;0m\u001b[48;2;255;255;255m\n",
      "\u001b[48;2;0;0;0m\u001b[38;2;255;0;0m Nivel : 2 : [------------------------------------------] 0.0 % \u001b[38;2;0;0;0m\u001b[48;2;255;255;255m\n",
      "\u001b[48;2;0;0;0m\u001b[38;2;255;0;0m Nivel : 3 : [------------------------------------------] 0.0 % \u001b[38;2;0;0;0m\u001b[48;2;255;255;255m\n",
      "\u001b[48;2;0;0;0m\u001b[38;2;255;0;0m Nivel : 4 : [------------------------------------------] 0.0 % \u001b[38;2;0;0;0m\u001b[48;2;255;255;255m\n",
      "\u001b[48;2;0;0;0m\u001b[38;2;255;0;0m Nivel : 5 : [------------------------------------------] 0.0 % \u001b[38;2;0;0;0m\u001b[48;2;255;255;255m\n",
      "Programa Terminado com Sucesso\n"
     ]
    }
   ],
   "source": [
    "# digestor inicializando com modo invocativo e depois estudo em modo expansão\n",
    "DG_03 = digestor_InvExp(arquivosave='ARQUIVO_TESTE3')\n",
    "DG_03.estudo(NIVEL=0) # caso nao consiga carregar a interface aumente o NIVEL"
   ]
  },
  {
   "cell_type": "markdown",
   "metadata": {},
   "source": [
    "## 4) Comando para Estudar Módulos Python"
   ]
  },
  {
   "cell_type": "code",
   "execution_count": 16,
   "metadata": {
    "collapsed": false
   },
   "outputs": [
    {
     "name": "stdout",
     "output_type": "stream",
     "text": [
      "Parametros de Configuracao Salvos em Arquivo : config/26062019_teste_config\n",
      "\u001b[48;2;0;0;0m\u001b[38;2;255;0;0m Nivel : 0 : [------------------------------------------] 0.0 % \u001b[38;2;0;0;0m\u001b[48;2;255;255;255m\n",
      "\u001b[48;2;0;0;0m\u001b[38;2;255;0;0m Nivel : 1 : [------------------------------------------] 0.0 % \u001b[38;2;0;0;0m\u001b[48;2;255;255;255m\n",
      "\u001b[48;2;0;0;0m\u001b[38;2;255;0;0m Nivel : 2 : [------------------------------------------] 0.0 % \u001b[38;2;0;0;0m\u001b[48;2;255;255;255m\n",
      "\u001b[48;2;0;0;0m\u001b[38;2;255;0;0m Nivel : 3 : [------------------------------------------] 0.0 % \u001b[38;2;0;0;0m\u001b[48;2;255;255;255m\n",
      "\u001b[48;2;0;0;0m\u001b[38;2;255;0;0m Nivel : 4 : [------------------------------------------] 0.0 % \u001b[38;2;0;0;0m\u001b[48;2;255;255;255m\n",
      "\u001b[48;2;0;0;0m\u001b[38;2;255;0;0m Nivel : 5 : [------------------------------------------] 0.0 % \u001b[38;2;0;0;0m\u001b[48;2;255;255;255m\n",
      "Programa Terminado com Sucesso\n"
     ]
    }
   ],
   "source": [
    "# ESTUDO DE MODULOS PYTHON\n",
    "# digestor teste python \n",
    "# digite @python module\n",
    "# ... sera carregado um widget de envio, digite builtins\n",
    "DG_PYTHON = digestor_InvEst(arquivosave='26062019_teste')\n",
    "DG_PYTHON.estudo(NIVEL=0)"
   ]
  },
  {
   "cell_type": "markdown",
   "metadata": {},
   "source": [
    "## 5) Dialética Socrática"
   ]
  },
  {
   "cell_type": "code",
   "execution_count": 17,
   "metadata": {
    "collapsed": false
   },
   "outputs": [
    {
     "name": "stdout",
     "output_type": "stream",
     "text": [
      "\u001b[48;2;0;0;0m\u001b[38;2;0;245;0m Questionamento : O que é trialética ?\u001b[38;2;0;0;0m\u001b[48;2;255;255;255m\n",
      "\u001b[48;2;0;0;0m\u001b[38;2;0;245;0m Questionamento : O que é dialética ?\u001b[38;2;0;0;0m\u001b[48;2;255;255;255m\n",
      "\u001b[48;2;0;0;0m\u001b[38;2;0;245;0m Questionamento : Qual relação da dialética definida aqui e o diálogo socrático ?\u001b[38;2;0;0;0m\u001b[48;2;255;255;255m\n",
      "\u001b[48;2;0;0;0m\u001b[38;2;122;255;155m1) O que é dialética? \u001b[38;2;0;0;0m\u001b[48;2;255;255;255m\n",
      "\u001b[48;2;0;0;0m\u001b[38;2;122;255;155m2) O que é trialética? \u001b[38;2;0;0;0m\u001b[48;2;255;255;255m\n",
      "\u001b[48;2;0;0;0m\u001b[38;2;122;255;155m3) Qual relação da dialética definida aqui e o diálogo socrático? \u001b[38;2;0;0;0m\u001b[48;2;255;255;255m\n",
      "\u001b[48;2;0;0;0m\u001b[38;2;245;245;0m Qual relação da dialética definida aqui e o diálogo socrático? \u001b[38;2;0;0;0m\u001b[48;2;255;255;255m\n"
     ]
    }
   ],
   "source": [
    "# digite @help\n",
    "# no estudo usando digestor você pode chamar a inteface dialética socrática digitando @socrates\n",
    "DS = dialSocrates(arq_save='teste04072019')\n",
    "DS.builder()"
   ]
  },
  {
   "cell_type": "code",
   "execution_count": null,
   "metadata": {
    "collapsed": true
   },
   "outputs": [],
   "source": []
  },
  {
   "cell_type": "code",
   "execution_count": null,
   "metadata": {
    "collapsed": true
   },
   "outputs": [],
   "source": []
  }
 ],
 "metadata": {
  "anaconda-cloud": {},
  "kernelspec": {
   "display_name": "Python 3",
   "language": "python",
   "name": "python3"
  },
  "language_info": {
   "codemirror_mode": {
    "name": "ipython",
    "version": 3
   },
   "file_extension": ".py",
   "mimetype": "text/x-python",
   "name": "python",
   "nbconvert_exporter": "python",
   "pygments_lexer": "ipython3",
   "version": "3.5.1"
  },
  "widgets": {
   "state": {},
   "version": "1.1.2"
  }
 },
 "nbformat": 4,
 "nbformat_minor": 0
}
