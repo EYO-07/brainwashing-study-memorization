{
 "cells": [
  {
   "cell_type": "markdown",
   "metadata": {},
   "source": [
    "# BrainWasher - Rotina de Estudo e Memorização\n",
    "\n",
    "Este algoritmo faz parte do paradigma de estudo trialético, o paradigma de estudo trialético consiste em três etapas: \n",
    "\n",
    "1. <b>Memorização ~ Emoção</b>: Parte do estudo em que se cria fórmulas, em que se cria nomes, em que se cria artifícios para facilitar a memorização de uma teoria. Está associado com a emoção por estar conectado com beleza, ordem, equilíbrio, é uma etapa que requer um toque artístico.\n",
    "\n",
    "Em geral a memorização é ignorada por vaidade, como se ferramentas de memorização fossem uma espécie de trapaça ou que a mente humana não precisa se esforçar tanto para memorizar. Mas nas circustâncias atuais, em que o conhecimento ultrapassa a capacidade humana de apreciar com rigor o conhecimento, diria que memorização é uma necessidade intelectual. Memorização por força bruta será como correr, não importa quanto você corra, carro será mais veloz.\n",
    "\n",
    "2. <b>Análise ~ Intelecto </b>: Parte do estudo com o objetivo de analisar o conteúdo de verdade da teoria, analisar demonstrações, analisar deduções, fazer perguntas.\n",
    "\n",
    "Na presente versão a única parte analítica disponível é a dialética socrática, que consiste em uma maneira de arquivar perguntas e possíveis respostas como uma árvore. Em textos matemáticos é necessário que dedique algum tempo na verificação de demonstrações, leitura de exemplos e exercícios para complementar a parte analítica. Em textos de filosofia, história ou humanas em geral, a análise socrática pode ser complementada por criação de artigos, textos expondo suas ideias e formulações, além de discussões em grupo.\n",
    "\n",
    "3. <b>Aplicação ~ Vontade </b>: Parte do estudo que tem como objetivo utilizar a teoria para finalidades práticas, que inclui também resolução de exercícios teóricos, implementação computacional ou mesmo desenvolvimento de teorias axiomáticas.\n",
    "\n",
    "\n",
    "A motivação da trialética é filosófica, a trialética (Emoção, Intelecto, Vontade) corresponde aos três eixos da mente, os três desejos que a consciência humana busca satisfazer associados a percepção, a compreensão e a ação. Como filosofia, não existe uma justificação objetiva suficiente para satifação dos céticos, por isso é apresentado como paradigma.\n",
    "\n",
    "Este algoritmo cuida da principalmente parte da <b>memorização</b>, a parte de <b>análise</b> e <b>aplicação</b> devem ser feitas utilizando outros recursos (recursos tradicionais ou versões modificadas deste algoritmo). A justificativa para ser dada atenção separada a parte da memorização é que a medida que a cultura humana se torna mais complicada, estamos gastando muito tempo com estudo.\n",
    "\n",
    "Dentro da <b>memorização</b> temos dois outros tipos de estudo, a <b>invocação</b> que tem como objetivo enumerar o maior número de informações sobre determinado tópico (Esta enumeração pode ser feita por meio de nomes e abstrações ou por meio do conteúdo definido de uma informação, é sugerido o primeiro por ser mais fácil) e o processo de <b>resgate</b> que tem como objetivo a partir de um nome ou de uma descrição vaga, resgatar seu conteúdo preciso.\n",
    "\n",
    "Um dos procedimentos desta rotina consiste em alimentar um conteiner de informações, é sugerido que as informações adicionadas sejam nomes e abstrações de informações em linguagem verbal.\n",
    "\n",
    "Defino como o <b>estudo tradicional</b> o estudo dividido nas etapas de <b>Exposição de Conteúdo</b> e <b>Exercícios</b>. O estudo tradicional deixa implícito a parte de memorização de conteúdo, a Exposição de Conteúdo Corresponde a Junção entre a Parte de Memorização e a parte de Análise. No método trialético cada etapa deve ser executada com o mesmo cuidado, e a etapa mais elementar é a de <b>memorização</b>, sem memorização não existe <b>raciocínio</b>.\n",
    "\n",
    "O paradigma de estudo trialético tem como objetivo contornar o problema da falta de tempo e da densidade de conteúdo com o uso de algoritmos pseudoaleatórios para auxiliar na memorização, etapa esta que exige maior esforço e que é menos divertida do que as outras duas subsequentes.\n",
    "\n",
    "Este método tenta preservar uma <b>uniformidade</b> entre as informações, diferente de uma exposição oral que tem caráter <b>linear</b>, ou uma exposição de uma teoria, as informações memorizadas por este método tem como objetivo uma associação uniforme entre o assunto e os conteúdos. É útil quando o objetivo é aplicar o conhecimento, mas não tão útil quando o objetivo for a sua exposição.\n",
    "\n",
    "Nas rotinas existe o parâmetro NIVEL, aumentando o Nível as informações antigas serão retomadas no gerador aleatório. Recomendo começar do nivel 2, pois permite que não se esgote rapidamente o número de repetições."
   ]
  },
  {
   "cell_type": "markdown",
   "metadata": {},
   "source": [
    "# ALGORITMO"
   ]
  },
  {
   "cell_type": "code",
   "execution_count": 1,
   "metadata": {
    "collapsed": true
   },
   "outputs": [],
   "source": [
    "%run textInterface18072019.py"
   ]
  },
  {
   "cell_type": "code",
   "execution_count": null,
   "metadata": {
    "collapsed": true
   },
   "outputs": [],
   "source": [
    "# Para alterar/vizualizar o conteúdo do digestor rode %load digestor12.py\n",
    "# Para sobrescrever o conteúdo do digestor rode %%writefile digestor12.py"
   ]
  },
  {
   "cell_type": "markdown",
   "metadata": {},
   "source": [
    "# EXEMPLO DE USO"
   ]
  },
  {
   "cell_type": "markdown",
   "metadata": {},
   "source": [
    "## 1) Digestor Normal\n",
    "\n",
    "O nome digestor vem de uma analogia com o <b>processo digestivo</b>, por mais horrível que possa parecer. O processo de aprendizado se relaciona com o processo de digestão de um alimento, suponha que uma <b>refeição</b> seja uma teoria, mas diferente de um alimento líquido, requer um processo cuidadoso de desintegração, essa teoria é <b>mastigada</b> manualmente em pequenas partes que foram adicionadas no <b>prato</b> através do sorteio dos nomes abstratos para teoria (nomes de definições, nomes de teoremas, nomes para argumentos comuns) da refeição, nesse processo de mastigação parte da teoria pode ficar retida no <b>estômago</b> (caso haja necessidade de repetição devido a erros), caso o estômago não fique cheio então o processo digestivo ocorre naturalmente. \n",
    "\n",
    "Neste modo de estudo o programa irá <b>sortear</b> (caso haja inventário de nomes) informações do <b>inventário</b> de informações. Caso você lembre do conteúdo preciso (traduzir o nome para o significado, escrever a fórmula, enunciar o teorema) então você deve <b>digitar</b> (+), caso contrário deve <b>digitar</b> (-). Ao <b>digitar</b> (-) o programa irá armazenar seu conteúdo dentro de uma lista chamada estômago, quando este ficar cheio apenas o que está no estômago será sorteado até um número determinado de sorteios.\n",
    "\n",
    "Quando o progresso chegar a 100 % você deve aumentar o nível (o que funciona na prática como estudo repetitivo). \n",
    "\n",
    "Para <b>adicionar</b> informações basta digitar o nome da informação seguido de ponto de interrogação. Para adicionar múltiplas informações separe usando o separador (no caso abaixo o ponto e vírgula). \n",
    "\n",
    "Para sair e salvar o arquivo digite @exit"
   ]
  },
  {
   "cell_type": "code",
   "execution_count": 2,
   "metadata": {
    "collapsed": false
   },
   "outputs": [
    {
     "name": "stdout",
     "output_type": "stream",
     "text": [
      "Parametros de Configuracao Salvos em Arquivo : config/ARQUIVO_TESTE1_config\n",
      "\u001b[48;2;0;0;0m\u001b[38;2;255;0;0m Nivel : 0 : [------------------------------------------] 0.0 % \u001b[38;2;0;0;0m\u001b[48;2;255;255;255m\n",
      "\u001b[48;2;0;0;0m\u001b[38;2;255;0;0m Nivel : 1 : [------------------------------------------] 0.0 % \u001b[38;2;0;0;0m\u001b[48;2;255;255;255m\n",
      "\u001b[48;2;0;0;0m\u001b[38;2;255;0;0m Nivel : 2 : [------------------------------------------] 0.0 % \u001b[38;2;0;0;0m\u001b[48;2;255;255;255m\n",
      "\u001b[48;2;0;0;0m\u001b[38;2;255;0;0m Nivel : 3 : [------------------------------------------] 0.0 % \u001b[38;2;0;0;0m\u001b[48;2;255;255;255m\n",
      "\u001b[48;2;0;0;0m\u001b[38;2;255;0;0m Nivel : 4 : [------------------------------------------] 0.0 % \u001b[38;2;0;0;0m\u001b[48;2;255;255;255m\n",
      "\u001b[48;2;0;0;0m\u001b[38;2;255;0;0m Nivel : 5 : [------------------------------------------] 0.0 % \u001b[38;2;0;0;0m\u001b[48;2;255;255;255m\n",
      "Programa Terminado com Sucesso\n"
     ]
    }
   ],
   "source": [
    "# rode esta celula (Primeiro Botão abaixo de Cell ou Ctrl Enter ) para executar rotina digestor de estudo normal\n",
    "DG_01 = theoDigestor(inventario=None,separador=';',arquivosave='ARQUIVO_TESTE1')\n",
    "DG_01.topicoPrincipal = ' Teoria [ Sem Nome ] : digite @set char para configurar o nome da teoria '\n",
    "DG_01.estudo(NIVEL=0) # caso nao consiga carregar a interface aumente o NIVEL"
   ]
  },
  {
   "cell_type": "markdown",
   "metadata": {},
   "source": [
    "## 2) Digestor em Modo Invocativo e Estudo \n",
    "\n",
    "O modo invocativo consiste em tentar lembrar do máximo número de informações da teoria associada a palavra-chave em um período limitado de tempo. Depois de terminado o modo invocativo o modo de estudo normal é ativado. Existem comandos para mudar os modos de estudo manualmente, digite @help para ter essas informações. No ínicio de um estudo (início de leitura de um livro, por exemplo) recomendo usar digestor_InvExp."
   ]
  },
  {
   "cell_type": "code",
   "execution_count": 2,
   "metadata": {
    "collapsed": false
   },
   "outputs": [
    {
     "name": "stdout",
     "output_type": "stream",
     "text": [
      "Parametros de Configuracao Salvos em Arquivo : config/ARQUIVO_TESTE2_config\n",
      "\u001b[48;2;0;0;0m\u001b[38;2;255;0;0m Nivel : 0 : [------------------------------------------] 0.0 % \u001b[38;2;0;0;0m\u001b[48;2;255;255;255m\n",
      "\u001b[48;2;0;0;0m\u001b[38;2;255;0;0m Nivel : 1 : [------------------------------------------] 0.0 % \u001b[38;2;0;0;0m\u001b[48;2;255;255;255m\n",
      "\u001b[48;2;0;0;0m\u001b[38;2;255;0;0m Nivel : 2 : [------------------------------------------] 0.0 % \u001b[38;2;0;0;0m\u001b[48;2;255;255;255m\n",
      "\u001b[48;2;0;0;0m\u001b[38;2;255;0;0m Nivel : 3 : [------------------------------------------] 0.0 % \u001b[38;2;0;0;0m\u001b[48;2;255;255;255m\n",
      "\u001b[48;2;0;0;0m\u001b[38;2;255;0;0m Nivel : 4 : [------------------------------------------] 0.0 % \u001b[38;2;0;0;0m\u001b[48;2;255;255;255m\n",
      "\u001b[48;2;0;0;0m\u001b[38;2;255;0;0m Nivel : 5 : [------------------------------------------] 0.0 % \u001b[38;2;0;0;0m\u001b[48;2;255;255;255m\n",
      "Programa Terminado com Sucesso\n"
     ]
    }
   ],
   "source": [
    "# digestor inicializando com modo invocativo e depois estudo normal\n",
    "DG_02 = digestor_InvEst(ARQUIVOSAVE='ARQUIVO_TESTE2')\n",
    "DG_02.palavrasChave = 'Palavra, Chave'\n",
    "DG_02.mode_invoc_time_countMax = 10\n",
    "DG_02.estudo(NIVEL=0) # caso nao consiga carregar a interface aumente o NIVEL"
   ]
  },
  {
   "cell_type": "markdown",
   "metadata": {},
   "source": [
    "## 3) Digestor em Modo Invocativo e Modo Expansão\n",
    "\n",
    "O modo expasão consiste em um modo que alterna entre estudo e expansão da teoria, ele força você a expandir a teoria. Neste modo recomenda-se usar [ @set last page ] para gravar a última página lida da fonte da teoria (livro), para resgatar a informação basta digitar [ @last page ]."
   ]
  },
  {
   "cell_type": "code",
   "execution_count": 9,
   "metadata": {
    "collapsed": false
   },
   "outputs": [
    {
     "name": "stdout",
     "output_type": "stream",
     "text": [
      "Parametros de Configuracao Salvos em Arquivo : config/ARQUIVO_TESTE3_config\n",
      "\u001b[48;2;0;0;0m\u001b[38;2;255;0;0m Nivel : 0 : [------------------------------------------] 0.0 % \u001b[38;2;0;0;0m\u001b[48;2;255;255;255m\n",
      "\u001b[48;2;0;0;0m\u001b[38;2;255;0;0m Nivel : 1 : [------------------------------------------] 0.0 % \u001b[38;2;0;0;0m\u001b[48;2;255;255;255m\n",
      "\u001b[48;2;0;0;0m\u001b[38;2;255;0;0m Nivel : 2 : [------------------------------------------] 0.0 % \u001b[38;2;0;0;0m\u001b[48;2;255;255;255m\n",
      "\u001b[48;2;0;0;0m\u001b[38;2;255;0;0m Nivel : 3 : [------------------------------------------] 0.0 % \u001b[38;2;0;0;0m\u001b[48;2;255;255;255m\n",
      "\u001b[48;2;0;0;0m\u001b[38;2;255;0;0m Nivel : 4 : [------------------------------------------] 0.0 % \u001b[38;2;0;0;0m\u001b[48;2;255;255;255m\n",
      "\u001b[48;2;0;0;0m\u001b[38;2;255;0;0m Nivel : 5 : [------------------------------------------] 0.0 % \u001b[38;2;0;0;0m\u001b[48;2;255;255;255m\n",
      "Programa Terminado com Sucesso\n"
     ]
    }
   ],
   "source": [
    "# digestor inicializando com modo invocativo e depois estudo em modo expansão\n",
    "DG_03 = digestor_InvExp(ARQUIVOSAVE='ARQUIVO_TESTE3')\n",
    "DG_03.palavrasChave = 'Palavra, Chave'\n",
    "DG_03.mode_invoc_time_countMax = 10\n",
    "DG_03.estudo(NIVEL=0) # caso nao consiga carregar a interface aumente o NIVEL"
   ]
  },
  {
   "cell_type": "markdown",
   "metadata": {},
   "source": [
    "## 4) Comando para Estudar Módulos Python"
   ]
  },
  {
   "cell_type": "code",
   "execution_count": 5,
   "metadata": {
    "collapsed": false
   },
   "outputs": [
    {
     "name": "stdout",
     "output_type": "stream",
     "text": [
      "Parametros de Configuracao Salvos em Arquivo : config/26062019_teste_config\n",
      "\u001b[48;2;0;0;0m\u001b[38;2;239;15;0m Nivel : 0 : [###---------------------------------------] 6.172839506172839 % \u001b[38;2;0;0;0m\u001b[48;2;255;255;255m\n",
      "\u001b[48;2;0;0;0m\u001b[38;2;255;0;0m Nivel : 1 : [------------------------------------------] 0.0 % \u001b[38;2;0;0;0m\u001b[48;2;255;255;255m\n",
      "\u001b[48;2;0;0;0m\u001b[38;2;255;0;0m Nivel : 2 : [------------------------------------------] 0.0 % \u001b[38;2;0;0;0m\u001b[48;2;255;255;255m\n",
      "\u001b[48;2;0;0;0m\u001b[38;2;255;0;0m Nivel : 3 : [------------------------------------------] 0.0 % \u001b[38;2;0;0;0m\u001b[48;2;255;255;255m\n",
      "\u001b[48;2;0;0;0m\u001b[38;2;255;0;0m Nivel : 4 : [------------------------------------------] 0.0 % \u001b[38;2;0;0;0m\u001b[48;2;255;255;255m\n",
      "\u001b[48;2;0;0;0m\u001b[38;2;255;0;0m Nivel : 5 : [------------------------------------------] 0.0 % \u001b[38;2;0;0;0m\u001b[48;2;255;255;255m\n",
      "Programa Terminado com Sucesso\n"
     ]
    }
   ],
   "source": [
    "# ESTUDO DE MODULOS PYTHON\n",
    "# digestor teste python \n",
    "# digite @python module\n",
    "# ... sera carregado um widget de envio, digite builtins\n",
    "DG_PYTHON = digestor_InvEst(ARQUIVOSAVE='26062019_teste')\n",
    "DG_PYTHON.estudo(NIVEL=0)"
   ]
  },
  {
   "cell_type": "markdown",
   "metadata": {},
   "source": [
    "## 5) Dialética Socrática"
   ]
  },
  {
   "cell_type": "code",
   "execution_count": 3,
   "metadata": {
    "collapsed": false
   },
   "outputs": [
    {
     "name": "stdout",
     "output_type": "stream",
     "text": [
      "\u001b[48;2;0;0;0m\u001b[38;2;0;245;245m  Raiz dos Problemas \u001b[38;2;0;0;0m\u001b[48;2;255;255;255m\n",
      "\u001b[48;2;0;0;0m\u001b[38;2;245;245;0m Qual relação da dialética definida aqui e o diálogo socrático? \u001b[38;2;0;0;0m\u001b[48;2;255;255;255m\n"
     ]
    }
   ],
   "source": [
    "# digite @help\n",
    "# no estudo usando digestor você pode chamar a inteface dialética socrática digitando @socrates\n",
    "# Você também pode criar interfaces independentes da dialética socrática, como escrito abaixo.\n",
    "DS = dialSocrates(arq_save='teste04072019')\n",
    "DS.builder()"
   ]
  }
 ],
 "metadata": {
  "anaconda-cloud": {},
  "kernelspec": {
   "display_name": "Python 3",
   "language": "python",
   "name": "python3"
  },
  "language_info": {
   "codemirror_mode": {
    "name": "ipython",
    "version": 3
   },
   "file_extension": ".py",
   "mimetype": "text/x-python",
   "name": "python",
   "nbconvert_exporter": "python",
   "pygments_lexer": "ipython3",
   "version": "3.5.1"
  },
  "widgets": {
   "state": {
    "04302d5e703e4664b0cb97c89448743c": {
     "views": []
    },
    "05d4cd646403433baec400306228342b": {
     "views": []
    },
    "0daf1c250bb54189af44a590305f1218": {
     "views": []
    },
    "100b28bd911e46e7b09039192af65457": {
     "views": []
    },
    "163eac647d414ea69c497a3530fd1afe": {
     "views": []
    },
    "178bedaaf2454925856b96dc1569f07a": {
     "views": []
    },
    "17e0d41e794e458286ab1ed943fe1310": {
     "views": []
    },
    "1a3780906fa04d3db7d8dfd9b2428cff": {
     "views": []
    },
    "355881bd42864e158c942f212a45e2c2": {
     "views": []
    },
    "378e7b75a2cf4f7d8f1528f28aef5926": {
     "views": []
    },
    "3ad0ca6db6fc4c06b4e306743de35ba3": {
     "views": []
    },
    "3c359499c40742559469312973281bba": {
     "views": []
    },
    "457d19dcebc4407190854664ae6c1b77": {
     "views": []
    },
    "4f8b3f397d524cd19bb73be6e9cbafc1": {
     "views": []
    },
    "53ebf3f8bdb240848772109edd4e9018": {
     "views": []
    },
    "5dc45ce936624cbeb091f454cee31f5c": {
     "views": []
    },
    "5f278900ca0b42d7ba7767d7b05de63f": {
     "views": []
    },
    "667c8704a3e64fb2a927a1cc8b2b4d96": {
     "views": []
    },
    "6879aee7439342da9f069a0c5197eeab": {
     "views": []
    },
    "6d5548db1bc145c3a3499d8ac85f6452": {
     "views": []
    },
    "70bbcdb3d0e04b9d8b30b5a481b1868a": {
     "views": []
    },
    "844100626292465896282ff9e43eaa9e": {
     "views": []
    },
    "849d02918e82410f89b0a80c794efafc": {
     "views": []
    },
    "872af6d8b42942e09c82293f82fdae53": {
     "views": []
    },
    "8d5c3145a074490f90c470c4edc18c42": {
     "views": []
    },
    "8fcb000bae9746908e037d21fdfa0138": {
     "views": []
    },
    "98031b96b4a848939a760897f305c502": {
     "views": []
    },
    "9e33b98130de42f7b7cb2c21572a5005": {
     "views": []
    },
    "a0fe9a3a5ac94e8b94d5cfacebb069d4": {
     "views": []
    },
    "a11df487ad41452588392a7a72120dab": {
     "views": []
    },
    "a1734d8eee6e445ab0a9bc7614c1ab3b": {
     "views": []
    },
    "a53de538472248489cef6fedab109754": {
     "views": []
    },
    "b00a24b34cea4ec891088372b3e62b88": {
     "views": []
    },
    "c8841742d8bd4e09ba04b1e9804dda10": {
     "views": []
    },
    "cb32c0280f54431e9b95baa112187ade": {
     "views": []
    },
    "cb4fbaa61a654f1a9c8e37b5c35f8885": {
     "views": []
    },
    "d0e87e86a1d64afba0e5832670766120": {
     "views": []
    },
    "d3a7b31a72ff4669956ed3c77b739a78": {
     "views": []
    },
    "d3ce35b492dd48aea802fe78c3b86cfd": {
     "views": []
    },
    "dca36a77b77841f1b8b3008e13b36e49": {
     "views": []
    },
    "e553b04794d64416b4950daeea480ee0": {
     "views": []
    },
    "e964c3348b7b4dbcb8df9be4c05143b2": {
     "views": []
    },
    "f36af32c74f24758bc4ce3930da1a3ec": {
     "views": []
    },
    "face86e53b584f3da0538f0cc1151e37": {
     "views": []
    },
    "fe24e1e4aad04ac3bd278c1f7831976c": {
     "views": []
    }
   },
   "version": "1.1.2"
  }
 },
 "nbformat": 4,
 "nbformat_minor": 0
}
