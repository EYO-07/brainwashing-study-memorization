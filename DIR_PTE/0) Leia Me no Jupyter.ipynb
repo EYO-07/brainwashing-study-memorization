{
 "cells": [
  {
   "cell_type": "markdown",
   "metadata": {},
   "source": [
    "# Algoritmo de Estudo - Digestor\n",
    "\n",
    "Este algoritmo faz parte do paradigma de estudo trialético, o paradigma de estudo trialético consiste em três etapas: Memorização, Análise, Aplicação. O paradigma de estudo trialético tem como objetivo contornar o problema da falta de tempo e da densidade de conteúdo com o uso de algoritmos pseudoaleatórios para auxiliar na memorização, etapa esta que exige maior esforço e que é menos divertida do que as outras duas subsequentes. \n",
    "\n",
    "A etapa de memorização consiste em outras três etapas: Seleção, Digestão, Invocação. \n",
    "\n",
    "A etapa de análise consiste em ler a fonte de conteúdo com um olhar crítico, questionando e verificando os argumentos, esta etapa também é responsável pela autoeflexão do conteúdo memorizado, para encontrar redundâncias, encontrar implicações, e organizar o conteúdo memorizado. \n",
    "\n",
    "A etapa de Invocação pode consistir na invocação dos nomes das informações (invocação conceitual, inventário, ou invocação de ferramental) ou consistir na invocação do conteúdo preciso das informações, o objetivo é enumerar o maior número de itens que conseguir  (sugestão: 100 itens) do assunto escolhido para estudo. \n",
    "\n",
    "A etapa de aplicação consiste em analisar exemplos práticos, fazer exercícios e resolver problemas como no estudo tradicional.\n",
    "\n",
    "Este algoritmo tem como finalidade tratar das duas primeiras subetapas da memorização, seleção e digestão, pois a invocação pode ser feita sem o auxílio do computador. Suponha um livro que você quer ler, tal com conteúdo demarcado (em livros de matemática temos os teoremas, por exemplo) que você queira memorizar, a seleção consiste em você criar uma lista (nome,pagina) destes conteúdos a serem memorizados de forma que um algoritmo possa selecionar randomicamente esta lista para testar a memorização.\n",
    "\n",
    "Este método tenta preservar uma uniformidade entre as informações, diferente de uma exposição oral que tem caráter linear, ou uma exposição de uma teoria, as informações memorizadas por este método tem como objetivo uma associação uniforme entre o assunto e os conteúdos. É útil quando o objetivo é aplicar o conhecimento, mas não tão útil quando o objetivo for a sua exposição."
   ]
  },
  {
   "cell_type": "markdown",
   "metadata": {},
   "source": [
    "## ALGORITMO"
   ]
  },
  {
   "cell_type": "code",
   "execution_count": 59,
   "metadata": {
    "collapsed": true
   },
   "outputs": [],
   "source": [
    "# Rode esta celula para carregar a classe digestor versão 6\n",
    "%run digestor6.py"
   ]
  },
  {
   "cell_type": "code",
   "execution_count": null,
   "metadata": {
    "collapsed": false
   },
   "outputs": [],
   "source": [
    "# Rode para Obter o modelo de Rotina do Digestor 3 e mude o que for necessário\n",
    "%load modeloDeEstudo_digestor3"
   ]
  },
  {
   "cell_type": "markdown",
   "metadata": {},
   "source": [
    "### EXEMPLO DE USO"
   ]
  },
  {
   "cell_type": "code",
   "execution_count": 56,
   "metadata": {
    "collapsed": false,
    "scrolled": false
   },
   "outputs": [
    {
     "name": "stdout",
     "output_type": "stream",
     "text": [
      "digite + para selecionar opção de acerto\n",
      "digite - para selecionar opção de erro\n",
      "\n",
      "digite @char para visualizar configurações\n",
      "\n",
      "digite @clear para apagar o conteudo da caixa de texto\n",
      "\n",
      "digite @help para mostrar novamente a ajuda\n",
      "\n",
      "digite @stop para parar o estudo e salvar\n",
      "\n",
      "digite @exit ou @quit para sair e salvar configuracoes\n",
      "\n",
      "digite @progress para mostrar o progresso do estudo\n",
      "\n",
      "digite @remain para mostrar quantas repeticoes ainda falta \n",
      "\n",
      "digite @reset save para resetar o arquivo save e parar o estudo\n",
      "\n",
      "digite @restart para iniciar um novo estudo\n",
      "\n",
      "digite @set char para configurar parametros\n",
      "\n",
      "digite @size para saber a quantidade de informacoes do inventario\n",
      "\n",
      "digite @load parameters para carregar configuracoes salvas\n",
      "\n",
      "digite @save parameters para salvar configuracoes\n",
      "\n",
      "digite @set mode expansion para ativar o modo de expansao de inventario\n",
      "\n",
      "digite @set mode default para retornar o modo default\n",
      "\n",
      "digite @set mode invoc para ativar o modo invocativo\n",
      "\n",
      "para adicionar novas informacoes digite as informacoes separadas com o separador e termine com (? ou SEPARADOR?)\n"
     ]
    }
   ],
   "source": [
    "# APERTE CTRL+ENTER para rodar a celula\n",
    "# Ferramental com Separacao em ';' . A definicao desta variavel eh a que consome mais linhas.\n",
    "# ... Tenha um formulario otimizado a mao das formulas, formulacoes de cada conteudo, crie abstracoes para facilitar a memoria\n",
    "DG_01 = digestor(INVENTARIO=None,SEPARADOR=';',ARQUIVOSAVE='ARQUIVO_TESTE0')\n",
    "DG_01.topicoPrincipal = ' Teoria [ Sem Nome ] : digite @set char para configurar o nome da teoria '\n",
    "DG_01.estudo(NIVEL=4) # caso nao consiga carregar a interface aumente o NIVEL"
   ]
  },
  {
   "cell_type": "markdown",
   "metadata": {},
   "source": [
    "### PARADIGMAS DE ESTUDO EXTRAS :"
   ]
  },
  {
   "cell_type": "code",
   "execution_count": null,
   "metadata": {
    "collapsed": false
   },
   "outputs": [],
   "source": []
  },
  {
   "cell_type": "markdown",
   "metadata": {},
   "source": [
    "## LABORATORIO DE ROTINAS"
   ]
  },
  {
   "cell_type": "markdown",
   "metadata": {},
   "source": [
    "## 13062019 14062019"
   ]
  },
  {
   "cell_type": "code",
   "execution_count": 4,
   "metadata": {
    "collapsed": false
   },
   "outputs": [],
   "source": [
    "#%load digestor6.py\n",
    "# 14062019 : 20:15\n",
    "# >>>>> Classe Auxiliar : Print Colorido"
   ]
  },
  {
   "cell_type": "code",
   "execution_count": 6,
   "metadata": {
    "collapsed": false
   },
   "outputs": [
    {
     "name": "stdout",
     "output_type": "stream",
     "text": [
      "Parametros de Configuracao Salvos em Arquivo : config/ARQUIVO_TESTE2_config\n",
      "\u001b[48;2;0;0;0m\u001b[38;2;0;255;0m Nivel : 0 : [##########################################] 100.0 % \u001b[38;2;0;0;0m\u001b[48;2;255;255;255m\n",
      "\u001b[48;2;0;0;0m\u001b[38;2;0;255;0m Nivel : 1 : [##########################################] 100.0 % \u001b[38;2;0;0;0m\u001b[48;2;255;255;255m\n",
      "\u001b[48;2;0;0;0m\u001b[38;2;0;255;0m Nivel : 2 : [##########################################] 100.0 % \u001b[38;2;0;0;0m\u001b[48;2;255;255;255m\n",
      "\u001b[48;2;0;0;0m\u001b[38;2;127;127;0m Nivel : 3 : [#####################---------------------] 50.0 % \u001b[38;2;0;0;0m\u001b[48;2;255;255;255m\n",
      "\u001b[48;2;0;0;0m\u001b[38;2;127;127;0m Nivel : 4 : [#####################---------------------] 50.0 % \u001b[38;2;0;0;0m\u001b[48;2;255;255;255m\n",
      "\u001b[48;2;0;0;0m\u001b[38;2;127;127;0m Nivel : 5 : [#####################---------------------] 50.0 % \u001b[38;2;0;0;0m\u001b[48;2;255;255;255m\n",
      "\u001b[48;2;0;0;0m\u001b[38;2;127;127;0m Nivel : 6 : [#####################---------------------] 50.0 % \u001b[38;2;0;0;0m\u001b[48;2;255;255;255m\n",
      "\u001b[48;2;0;0;0m\u001b[38;2;127;127;0m Nivel : 7 : [#####################---------------------] 50.0 % \u001b[38;2;0;0;0m\u001b[48;2;255;255;255m\n",
      "\u001b[48;2;0;0;0m\u001b[38;2;127;127;0m Nivel : 8 : [#####################---------------------] 50.0 % \u001b[38;2;0;0;0m\u001b[48;2;255;255;255m\n",
      "\u001b[48;2;0;0;0m\u001b[38;2;255;0;0m Nivel : 9 : [------------------------------------------] 0.0 % \u001b[38;2;0;0;0m\u001b[48;2;255;255;255m\n",
      "\u001b[48;2;0;0;0m\u001b[38;2;255;0;0m Nivel : 10 : [------------------------------------------] 0.0 % \u001b[38;2;0;0;0m\u001b[48;2;255;255;255m\n",
      "\u001b[48;2;0;0;0m\u001b[38;2;255;0;0m Nivel : 11 : [------------------------------------------] 0.0 % \u001b[38;2;0;0;0m\u001b[48;2;255;255;255m\n",
      "PROGRAMA FECHADO\n"
     ]
    }
   ],
   "source": [
    "DG_01 = digestor(INVENTARIO=None,SEPARADOR=';',ARQUIVOSAVE='ARQUIVO_TESTE2')\n",
    "DG_01.estudo(10)"
   ]
  },
  {
   "cell_type": "markdown",
   "metadata": {},
   "source": [
    "## 14062019 : 09:50 : Rogue Like :"
   ]
  },
  {
   "cell_type": "code",
   "execution_count": 145,
   "metadata": {
    "collapsed": false
   },
   "outputs": [
    {
     "name": "stdout",
     "output_type": "stream",
     "text": [
      ".................................................\n",
      ".................................................\n",
      "..@..............................................\n",
      ".................................................\n",
      ".................................................\n",
      ".................................................\n",
      ".................................................\n",
      ".................................................\n",
      ".................................................\n",
      ".................................................\n",
      ".................................................\n",
      ".................................................\n",
      ".................................................\n",
      ".................................................\n"
     ]
    }
   ],
   "source": [
    "# Como fazer um grid de objetos?\n",
    "import ipywidgets as wdg\n",
    "from IPython.display import display, clear_output\n",
    "class Rogue_Position:\n",
    "#... Rogue_Position\n",
    "    def __init__(self,position):\n",
    "        assert(type(position)==tuple)\n",
    "        self.charPosition = position\n",
    "        self.charPosV = position[0]\n",
    "        self.charPosH = position[1]\n",
    "    def __add__(self,ROGUE_POSITION):\n",
    "        return Rogue_Position( (self.charPosV+ROGUE_POSITION.charPosV,self.charPosH+ROGUE_POSITION.charPosH) )\n",
    "class rogueInterface:\n",
    "#... rogueInterface\n",
    "    def __init__(self, CPLACE = None):\n",
    "        self.currentPLACE = CPLACE\n",
    "        self.listPLACE = None\n",
    "        self.charPosition = None\n",
    "        self.charRep = '@'\n",
    "#... rogueInterface        \n",
    "    def setPLACE(self,position=None):\n",
    "        self.currentPLACE = self.currentPLACE.replace('\\n','')\n",
    "        AMBIENTE_LIST = self.currentPLACE.split(';')[1:-1]\n",
    "        AMBIENTE_LIST = [ list(i.replace(';','\\n')) for i in AMBIENTE_LIST ]\n",
    "        if position!=None:\n",
    "            X = Rogue_Position(position)\n",
    "            self.charPosition = X\n",
    "            AMBIENTE_LIST[X.charPosV][X.charPosV] = self.charRep\n",
    "            self.listPLACE = AMBIENTE_LIST\n",
    "            self.printPLACE()\n",
    "        else:\n",
    "            X = self.charPosition\n",
    "            AMBIENTE_LIST[X.charPosV][X.charPosV] = self.charRep\n",
    "            self.listPLACE = AMBIENTE_LIST\n",
    "            self.printPLACE()\n",
    "#... rogueInterface        \n",
    "    def printPLACE(self):\n",
    "        from IPython.display import clear_output\n",
    "        for i in self.listPLACE:\n",
    "            S =''\n",
    "            for j in i:\n",
    "                S +=j\n",
    "            print(S)\n",
    "#... rogueInterface        \n",
    "    def charControl(self,position):\n",
    "        self.charPosition = self.charPosition + Rogue_Position(position)\n",
    "        clear_output()\n",
    "        self.setPLACE()\n",
    "\n",
    "AMBIENTE = \"\"\" [ AMBIENTE 1 ] ;\n",
    ".................................................;\n",
    ".................................................;\n",
    ".................................................;\n",
    ".................................................;\n",
    ".................................................;\n",
    ".................................................;\n",
    ".................................................;\n",
    ".................................................;\n",
    ".................................................;\n",
    ".................................................;\n",
    ".................................................;\n",
    ".................................................;\n",
    ".................................................;\n",
    ".................................................;\n",
    "\"\"\"\n",
    "\n",
    "X = rogueInterface(AMBIENTE)\n",
    "X.setPLACE((0,0))\n",
    "X.charControl((2,2))"
   ]
  },
  {
   "cell_type": "code",
   "execution_count": 24,
   "metadata": {
    "collapsed": false
   },
   "outputs": [],
   "source": [
    "# 21062019 : 17:25 : Construção da Classe Backbone de Interface de Rogue Like\n",
    "# >>>>> classe coloredPrintRGB\n",
    "class coloredPrintRGB:\n",
    "    \"\"\" Classe coloredPrintRGB : Usando sequencias de escape para imprimir colorido no print do console\n",
    "            E possivel mudar a cor do texto assim como a cor de fundo do console.\"\"\"\n",
    "#... coloredPrintRGB\n",
    "    def __init__(self,string,textColor=[0,0,0],backgroundColor=[255,255,255]):\n",
    "        self.textColor = textColor ; self.backgroundColor = backgroundColor ; self.string = string ; self.default() ;\n",
    "#... coloredPrintRGB    \n",
    "    def __update_string(self): \n",
    "        \"\"\" atualiza a string de cor \"\"\"\n",
    "        self.__retSTR = self.__ces(self.backgroundColor,1)+self.__ces(self.textColor,0)+self.string+self.__default\n",
    "#... coloredPrintRGB\n",
    "    def __ces(self,LIST_COLOR,SWITCH_WORD2BACK=0): # shorthando for color escape sequence\n",
    "        \"\"\" constroi a sequencia de escapa para print colorido \"\"\"\n",
    "        # responsabilidades < __ces < coloredPrintRGB\n",
    "        str_aux = str(LIST_COLOR[0]) + \";\" + str(LIST_COLOR[1]) + \";\" + str(LIST_COLOR[2]) + \"m\"\n",
    "        if   SWITCH_WORD2BACK==0: return \"\\033[38;2;\" + str_aux # sequencia para cor da letra  \n",
    "        elif SWITCH_WORD2BACK==1: return \"\\033[48;2;\" + str_aux # sequencia para cor do fundo\n",
    "#... coloredPrintRGB\n",
    "    def default(self,textColor=[0,0,0],backgroundColor=[255,255,255]):\n",
    "        \"\"\" Configura o estado inicial e chama a atualizacao __act da string colorida \"\"\"\n",
    "        self.__default = self.__ces(textColor,0)+self.__ces(backgroundColor,1) ; self.__update_string() ;\n",
    "#... coloredPrintRGB    \n",
    "    def returnString(self): return self.__retSTR\n",
    "    def printString(self): print(self.__retSTR)\n",
    "#... coloredPrintRGB    \n",
    "    def rangerPrint(self,number,maxNumber,iniColor,endColor,returnString=False):\n",
    "        \"\"\" metodo [ coloredPrintRGB.rangerPrint(number,maxNumber,iniColor,endColor,returnString=False) ] \n",
    "            1) Retorna um print colorido de acordo com um gradiente de cor\n",
    "            2) a razao number/maxNumber diz qual cor do gradiente ira ser retornado\n",
    "            3) iniColor eh a cor inicial do gradiente, quando number = 0\n",
    "            4) endColor eh a cor final do gradiente, quando number==maxNumber\n",
    "            5) iniColor e endColor podem receber parametros string 'r','b','g'\n",
    "            6) o metodo altera parametros do objeto e nao retorna nada, caso queira retorno ...\n",
    "            ... faca returnString=True. \"\"\"\n",
    "        # imports < rangerPrint < coloredPrintRGB\n",
    "        from math import floor as fl ; p = float(number)/maxNumber ; \n",
    "        # subrotinas        < rangerPrint < coloredPrintRGB\n",
    "#... ... rangerPrint < coloredPrintRGB        \n",
    "        def subrotina_comb_cor(): # combinacao linear de cor RGB (1-p){cor inicial} + p{cor final} = 255\n",
    "            if   iniColor=='r': self.textColor[0] = fl(255*(1-p))\n",
    "            elif iniColor=='g': self.textColor[1] = fl(255*(1-p))\n",
    "            elif iniColor=='b': self.textColor[2] = fl(255*(1-p))\n",
    "            if   endColor=='r': self.textColor[0] = fl(255*p)\n",
    "            elif endColor=='g': self.textColor[1] = fl(255*p)\n",
    "            elif endColor=='b': self.textColor[2] = fl(255*p)        \n",
    "        # responsabilidades < rangerPrint < coloredPrintRGB\n",
    "        subrotina_comb_cor() ; self.__update_string() ; self.printString() ;\n",
    "        if returnString: return self.__retSTR\n",
    "# >>>>> Class Rogue_Interface\n",
    "class Rogue_Interface():\n",
    "#... Rogue_Interface\n",
    "    def __init__(self):\n",
    "        self.environment = None\n",
    "        self.character = None\n",
    "        self.user_interface_ref = None\n",
    "#... Rogue_Interface        \n",
    "    def saveEnvironment(self): pass\n",
    "#... Rogue_Interface    \n",
    "    def loadEnvironment(self): pass\n",
    "#... Rogue_Interface    \n",
    "    def changeEnvironment(self): pass\n",
    "#... Rogue_Interface    \n",
    "    def environmentDisplay(self):pass\n",
    "# >>>>> class Rogue_Object                \n",
    "class Rogue_Object():\n",
    "#... Rogue_Object    \n",
    "    def __init__(self): \n",
    "        self.Name = None\n",
    "        self.TypeName = None\n",
    "        self.RepDisplay = None\n",
    "        self.rep_dict = None\n",
    "#... Rogue_Object        \n",
    "    def rogueDisplay(self,STRING=None):\n",
    "        # guarda < rogueDisplay < Rogue_Object\n",
    "        if self.rep_dict == None:\n",
    "            # responsabilidade < rogueDisplay < Rogue_Object\n",
    "            self.rep_dict = {}\n",
    "            GRASS = coloredPrintRGB(string=\".\",textColor=[ 0 ,200 , 0 ])\n",
    "            # responsabilidade < rogueDisplay < Rogue_Object\n",
    "            self.rep_dict.update({ 'grass' : GRASS })\n",
    "        # retaguarda < rogueDisplay < Rogue_Object\n",
    "        if STRING == None: return None\n",
    "        # retorno e finalizacao < rogueDisplay < Rogue_Object\n",
    "        return self.rep_dict[STRING].printString()\n",
    "# >>>>> class Rogue_Container(Rogue_Object)                \n",
    "class Rogue_Container(Rogue_Object):\n",
    "#... Rogue_Container    \n",
    "    def __init__(self): \n",
    "        super(Rogue_Container,self).__init__()\n",
    "        self.Rogue_Objects_Array = None\n",
    "# >>>>> class Rogue_Tile(Rogue_Container)        \n",
    "class Rogue_Tile(Rogue_Container):\n",
    "#... Rogue_Tile    \n",
    "    def __init__(self, TILETYPE):\n",
    "        super(Rogue_Tile,self).__init__()\n",
    "        self.tileType = TILETYPE\n",
    "    def thereIsObj(self):\n",
    "        \"\"\"verifica se tem objetos no container, caso sim entao deve mudar o display\"\"\"\n",
    "        pass\n",
    "    def displayByType(self):\n",
    "        \"\"\"de acordo com o nome do tileType o display eh configurado\"\"\"\n",
    "        self.rogueDisplay(None)\n",
    "        try   : return self.rep_dict[self.tileType].returnString()\n",
    "        except: pass\n",
    "        return None\n",
    "# >>>>> class Rogue_Character(Rogue_Container)\n",
    "class Rogue_Character(Rogue_Container):\n",
    "#... Rogue_Character\n",
    "    def __init__(self):\n",
    "        super(Rogue_Character,self).__init__()\n",
    "        self.position = None\n",
    "# >>>>> class Rogue_Environment        \n",
    "class Rogue_Environment():\n",
    "#... Rogue_Environment\n",
    "    def __init__(self):\n",
    "        self.environmentName = None\n",
    "        self.tileArray = None\n",
    "#... Rogue_Environment        \n",
    "    def sameTileArray(self, TILETYPE,N,M):\n",
    "        \"\"\"constroi um array com um mesmo tipo de tile\"\"\"\n",
    "        self.tileArray = [ [ Rogue_Tile(TILETYPE) for j in range(M) ] for i in range(N) ]\n",
    "        return self.tileArray\n",
    "#... Rogue_Environment    \n",
    "    def display(self):\n",
    "#... ... display < Rogue_Environment        \n",
    "        for i in self.tileArray:\n",
    "            STR = \"\"\n",
    "#... ... ... display < Rogue_Environment                    \n",
    "            for j in i:\n",
    "                STR+=j.displayByType()\n",
    "            print(STR)"
   ]
  },
  {
   "cell_type": "code",
   "execution_count": 27,
   "metadata": {
    "collapsed": false,
    "scrolled": true
   },
   "outputs": [
    {
     "name": "stdout",
     "output_type": "stream",
     "text": [
      "\u001b[48;2;255;255;255m\u001b[38;2;0;200;0m.\u001b[38;2;0;0;0m\u001b[48;2;255;255;255m\u001b[48;2;255;255;255m\u001b[38;2;0;200;0m.\u001b[38;2;0;0;0m\u001b[48;2;255;255;255m\u001b[48;2;255;255;255m\u001b[38;2;0;200;0m.\u001b[38;2;0;0;0m\u001b[48;2;255;255;255m\u001b[48;2;255;255;255m\u001b[38;2;0;200;0m.\u001b[38;2;0;0;0m\u001b[48;2;255;255;255m\u001b[48;2;255;255;255m\u001b[38;2;0;200;0m.\u001b[38;2;0;0;0m\u001b[48;2;255;255;255m\u001b[48;2;255;255;255m\u001b[38;2;0;200;0m.\u001b[38;2;0;0;0m\u001b[48;2;255;255;255m\u001b[48;2;255;255;255m\u001b[38;2;0;200;0m.\u001b[38;2;0;0;0m\u001b[48;2;255;255;255m\u001b[48;2;255;255;255m\u001b[38;2;0;200;0m.\u001b[38;2;0;0;0m\u001b[48;2;255;255;255m\u001b[48;2;255;255;255m\u001b[38;2;0;200;0m.\u001b[38;2;0;0;0m\u001b[48;2;255;255;255m\u001b[48;2;255;255;255m\u001b[38;2;0;200;0m.\u001b[38;2;0;0;0m\u001b[48;2;255;255;255m\u001b[48;2;255;255;255m\u001b[38;2;0;200;0m.\u001b[38;2;0;0;0m\u001b[48;2;255;255;255m\u001b[48;2;255;255;255m\u001b[38;2;0;200;0m.\u001b[38;2;0;0;0m\u001b[48;2;255;255;255m\u001b[48;2;255;255;255m\u001b[38;2;0;200;0m.\u001b[38;2;0;0;0m\u001b[48;2;255;255;255m\u001b[48;2;255;255;255m\u001b[38;2;0;200;0m.\u001b[38;2;0;0;0m\u001b[48;2;255;255;255m\u001b[48;2;255;255;255m\u001b[38;2;0;200;0m.\u001b[38;2;0;0;0m\u001b[48;2;255;255;255m\u001b[48;2;255;255;255m\u001b[38;2;0;200;0m.\u001b[38;2;0;0;0m\u001b[48;2;255;255;255m\u001b[48;2;255;255;255m\u001b[38;2;0;200;0m.\u001b[38;2;0;0;0m\u001b[48;2;255;255;255m\u001b[48;2;255;255;255m\u001b[38;2;0;200;0m.\u001b[38;2;0;0;0m\u001b[48;2;255;255;255m\u001b[48;2;255;255;255m\u001b[38;2;0;200;0m.\u001b[38;2;0;0;0m\u001b[48;2;255;255;255m\u001b[48;2;255;255;255m\u001b[38;2;0;200;0m.\u001b[38;2;0;0;0m\u001b[48;2;255;255;255m\n",
      "\u001b[48;2;255;255;255m\u001b[38;2;0;200;0m.\u001b[38;2;0;0;0m\u001b[48;2;255;255;255m\u001b[48;2;255;255;255m\u001b[38;2;0;200;0m.\u001b[38;2;0;0;0m\u001b[48;2;255;255;255m\u001b[48;2;255;255;255m\u001b[38;2;0;200;0m.\u001b[38;2;0;0;0m\u001b[48;2;255;255;255m\u001b[48;2;255;255;255m\u001b[38;2;0;200;0m.\u001b[38;2;0;0;0m\u001b[48;2;255;255;255m\u001b[48;2;255;255;255m\u001b[38;2;0;200;0m.\u001b[38;2;0;0;0m\u001b[48;2;255;255;255m\u001b[48;2;255;255;255m\u001b[38;2;0;200;0m.\u001b[38;2;0;0;0m\u001b[48;2;255;255;255m\u001b[48;2;255;255;255m\u001b[38;2;0;200;0m.\u001b[38;2;0;0;0m\u001b[48;2;255;255;255m\u001b[48;2;255;255;255m\u001b[38;2;0;200;0m.\u001b[38;2;0;0;0m\u001b[48;2;255;255;255m\u001b[48;2;255;255;255m\u001b[38;2;0;200;0m.\u001b[38;2;0;0;0m\u001b[48;2;255;255;255m\u001b[48;2;255;255;255m\u001b[38;2;0;200;0m.\u001b[38;2;0;0;0m\u001b[48;2;255;255;255m\u001b[48;2;255;255;255m\u001b[38;2;0;200;0m.\u001b[38;2;0;0;0m\u001b[48;2;255;255;255m\u001b[48;2;255;255;255m\u001b[38;2;0;200;0m.\u001b[38;2;0;0;0m\u001b[48;2;255;255;255m\u001b[48;2;255;255;255m\u001b[38;2;0;200;0m.\u001b[38;2;0;0;0m\u001b[48;2;255;255;255m\u001b[48;2;255;255;255m\u001b[38;2;0;200;0m.\u001b[38;2;0;0;0m\u001b[48;2;255;255;255m\u001b[48;2;255;255;255m\u001b[38;2;0;200;0m.\u001b[38;2;0;0;0m\u001b[48;2;255;255;255m\u001b[48;2;255;255;255m\u001b[38;2;0;200;0m.\u001b[38;2;0;0;0m\u001b[48;2;255;255;255m\u001b[48;2;255;255;255m\u001b[38;2;0;200;0m.\u001b[38;2;0;0;0m\u001b[48;2;255;255;255m\u001b[48;2;255;255;255m\u001b[38;2;0;200;0m.\u001b[38;2;0;0;0m\u001b[48;2;255;255;255m\u001b[48;2;255;255;255m\u001b[38;2;0;200;0m.\u001b[38;2;0;0;0m\u001b[48;2;255;255;255m\u001b[48;2;255;255;255m\u001b[38;2;0;200;0m.\u001b[38;2;0;0;0m\u001b[48;2;255;255;255m\n",
      "\u001b[48;2;255;255;255m\u001b[38;2;0;200;0m.\u001b[38;2;0;0;0m\u001b[48;2;255;255;255m\u001b[48;2;255;255;255m\u001b[38;2;0;200;0m.\u001b[38;2;0;0;0m\u001b[48;2;255;255;255m\u001b[48;2;255;255;255m\u001b[38;2;0;200;0m.\u001b[38;2;0;0;0m\u001b[48;2;255;255;255m\u001b[48;2;255;255;255m\u001b[38;2;0;200;0m.\u001b[38;2;0;0;0m\u001b[48;2;255;255;255m\u001b[48;2;255;255;255m\u001b[38;2;0;200;0m.\u001b[38;2;0;0;0m\u001b[48;2;255;255;255m\u001b[48;2;255;255;255m\u001b[38;2;0;200;0m.\u001b[38;2;0;0;0m\u001b[48;2;255;255;255m\u001b[48;2;255;255;255m\u001b[38;2;0;200;0m.\u001b[38;2;0;0;0m\u001b[48;2;255;255;255m\u001b[48;2;255;255;255m\u001b[38;2;0;200;0m.\u001b[38;2;0;0;0m\u001b[48;2;255;255;255m\u001b[48;2;255;255;255m\u001b[38;2;0;200;0m.\u001b[38;2;0;0;0m\u001b[48;2;255;255;255m\u001b[48;2;255;255;255m\u001b[38;2;0;200;0m.\u001b[38;2;0;0;0m\u001b[48;2;255;255;255m\u001b[48;2;255;255;255m\u001b[38;2;0;200;0m.\u001b[38;2;0;0;0m\u001b[48;2;255;255;255m\u001b[48;2;255;255;255m\u001b[38;2;0;200;0m.\u001b[38;2;0;0;0m\u001b[48;2;255;255;255m\u001b[48;2;255;255;255m\u001b[38;2;0;200;0m.\u001b[38;2;0;0;0m\u001b[48;2;255;255;255m\u001b[48;2;255;255;255m\u001b[38;2;0;200;0m.\u001b[38;2;0;0;0m\u001b[48;2;255;255;255m\u001b[48;2;255;255;255m\u001b[38;2;0;200;0m.\u001b[38;2;0;0;0m\u001b[48;2;255;255;255m\u001b[48;2;255;255;255m\u001b[38;2;0;200;0m.\u001b[38;2;0;0;0m\u001b[48;2;255;255;255m\u001b[48;2;255;255;255m\u001b[38;2;0;200;0m.\u001b[38;2;0;0;0m\u001b[48;2;255;255;255m\u001b[48;2;255;255;255m\u001b[38;2;0;200;0m.\u001b[38;2;0;0;0m\u001b[48;2;255;255;255m\u001b[48;2;255;255;255m\u001b[38;2;0;200;0m.\u001b[38;2;0;0;0m\u001b[48;2;255;255;255m\u001b[48;2;255;255;255m\u001b[38;2;0;200;0m.\u001b[38;2;0;0;0m\u001b[48;2;255;255;255m\n",
      "\u001b[48;2;255;255;255m\u001b[38;2;0;200;0m.\u001b[38;2;0;0;0m\u001b[48;2;255;255;255m\u001b[48;2;255;255;255m\u001b[38;2;0;200;0m.\u001b[38;2;0;0;0m\u001b[48;2;255;255;255m\u001b[48;2;255;255;255m\u001b[38;2;0;200;0m.\u001b[38;2;0;0;0m\u001b[48;2;255;255;255m\u001b[48;2;255;255;255m\u001b[38;2;0;200;0m.\u001b[38;2;0;0;0m\u001b[48;2;255;255;255m\u001b[48;2;255;255;255m\u001b[38;2;0;200;0m.\u001b[38;2;0;0;0m\u001b[48;2;255;255;255m\u001b[48;2;255;255;255m\u001b[38;2;0;200;0m.\u001b[38;2;0;0;0m\u001b[48;2;255;255;255m\u001b[48;2;255;255;255m\u001b[38;2;0;200;0m.\u001b[38;2;0;0;0m\u001b[48;2;255;255;255m\u001b[48;2;255;255;255m\u001b[38;2;0;200;0m.\u001b[38;2;0;0;0m\u001b[48;2;255;255;255m\u001b[48;2;255;255;255m\u001b[38;2;0;200;0m.\u001b[38;2;0;0;0m\u001b[48;2;255;255;255m\u001b[48;2;255;255;255m\u001b[38;2;0;200;0m.\u001b[38;2;0;0;0m\u001b[48;2;255;255;255m\u001b[48;2;255;255;255m\u001b[38;2;0;200;0m.\u001b[38;2;0;0;0m\u001b[48;2;255;255;255m\u001b[48;2;255;255;255m\u001b[38;2;0;200;0m.\u001b[38;2;0;0;0m\u001b[48;2;255;255;255m\u001b[48;2;255;255;255m\u001b[38;2;0;200;0m.\u001b[38;2;0;0;0m\u001b[48;2;255;255;255m\u001b[48;2;255;255;255m\u001b[38;2;0;200;0m.\u001b[38;2;0;0;0m\u001b[48;2;255;255;255m\u001b[48;2;255;255;255m\u001b[38;2;0;200;0m.\u001b[38;2;0;0;0m\u001b[48;2;255;255;255m\u001b[48;2;255;255;255m\u001b[38;2;0;200;0m.\u001b[38;2;0;0;0m\u001b[48;2;255;255;255m\u001b[48;2;255;255;255m\u001b[38;2;0;200;0m.\u001b[38;2;0;0;0m\u001b[48;2;255;255;255m\u001b[48;2;255;255;255m\u001b[38;2;0;200;0m.\u001b[38;2;0;0;0m\u001b[48;2;255;255;255m\u001b[48;2;255;255;255m\u001b[38;2;0;200;0m.\u001b[38;2;0;0;0m\u001b[48;2;255;255;255m\u001b[48;2;255;255;255m\u001b[38;2;0;200;0m.\u001b[38;2;0;0;0m\u001b[48;2;255;255;255m\n",
      "\u001b[48;2;255;255;255m\u001b[38;2;0;200;0m.\u001b[38;2;0;0;0m\u001b[48;2;255;255;255m\u001b[48;2;255;255;255m\u001b[38;2;0;200;0m.\u001b[38;2;0;0;0m\u001b[48;2;255;255;255m\u001b[48;2;255;255;255m\u001b[38;2;0;200;0m.\u001b[38;2;0;0;0m\u001b[48;2;255;255;255m\u001b[48;2;255;255;255m\u001b[38;2;0;200;0m.\u001b[38;2;0;0;0m\u001b[48;2;255;255;255m\u001b[48;2;255;255;255m\u001b[38;2;0;200;0m.\u001b[38;2;0;0;0m\u001b[48;2;255;255;255m\u001b[48;2;255;255;255m\u001b[38;2;0;200;0m.\u001b[38;2;0;0;0m\u001b[48;2;255;255;255m\u001b[48;2;255;255;255m\u001b[38;2;0;200;0m.\u001b[38;2;0;0;0m\u001b[48;2;255;255;255m\u001b[48;2;255;255;255m\u001b[38;2;0;200;0m.\u001b[38;2;0;0;0m\u001b[48;2;255;255;255m\u001b[48;2;255;255;255m\u001b[38;2;0;200;0m.\u001b[38;2;0;0;0m\u001b[48;2;255;255;255m\u001b[48;2;255;255;255m\u001b[38;2;0;200;0m.\u001b[38;2;0;0;0m\u001b[48;2;255;255;255m\u001b[48;2;255;255;255m\u001b[38;2;0;200;0m.\u001b[38;2;0;0;0m\u001b[48;2;255;255;255m\u001b[48;2;255;255;255m\u001b[38;2;0;200;0m.\u001b[38;2;0;0;0m\u001b[48;2;255;255;255m\u001b[48;2;255;255;255m\u001b[38;2;0;200;0m.\u001b[38;2;0;0;0m\u001b[48;2;255;255;255m\u001b[48;2;255;255;255m\u001b[38;2;0;200;0m.\u001b[38;2;0;0;0m\u001b[48;2;255;255;255m\u001b[48;2;255;255;255m\u001b[38;2;0;200;0m.\u001b[38;2;0;0;0m\u001b[48;2;255;255;255m\u001b[48;2;255;255;255m\u001b[38;2;0;200;0m.\u001b[38;2;0;0;0m\u001b[48;2;255;255;255m\u001b[48;2;255;255;255m\u001b[38;2;0;200;0m.\u001b[38;2;0;0;0m\u001b[48;2;255;255;255m\u001b[48;2;255;255;255m\u001b[38;2;0;200;0m.\u001b[38;2;0;0;0m\u001b[48;2;255;255;255m\u001b[48;2;255;255;255m\u001b[38;2;0;200;0m.\u001b[38;2;0;0;0m\u001b[48;2;255;255;255m\u001b[48;2;255;255;255m\u001b[38;2;0;200;0m.\u001b[38;2;0;0;0m\u001b[48;2;255;255;255m\n",
      "\u001b[48;2;255;255;255m\u001b[38;2;0;200;0m.\u001b[38;2;0;0;0m\u001b[48;2;255;255;255m\u001b[48;2;255;255;255m\u001b[38;2;0;200;0m.\u001b[38;2;0;0;0m\u001b[48;2;255;255;255m\u001b[48;2;255;255;255m\u001b[38;2;0;200;0m.\u001b[38;2;0;0;0m\u001b[48;2;255;255;255m\u001b[48;2;255;255;255m\u001b[38;2;0;200;0m.\u001b[38;2;0;0;0m\u001b[48;2;255;255;255m\u001b[48;2;255;255;255m\u001b[38;2;0;200;0m.\u001b[38;2;0;0;0m\u001b[48;2;255;255;255m\u001b[48;2;255;255;255m\u001b[38;2;0;200;0m.\u001b[38;2;0;0;0m\u001b[48;2;255;255;255m\u001b[48;2;255;255;255m\u001b[38;2;0;200;0m.\u001b[38;2;0;0;0m\u001b[48;2;255;255;255m\u001b[48;2;255;255;255m\u001b[38;2;0;200;0m.\u001b[38;2;0;0;0m\u001b[48;2;255;255;255m\u001b[48;2;255;255;255m\u001b[38;2;0;200;0m.\u001b[38;2;0;0;0m\u001b[48;2;255;255;255m\u001b[48;2;255;255;255m\u001b[38;2;0;200;0m.\u001b[38;2;0;0;0m\u001b[48;2;255;255;255m\u001b[48;2;255;255;255m\u001b[38;2;0;200;0m.\u001b[38;2;0;0;0m\u001b[48;2;255;255;255m\u001b[48;2;255;255;255m\u001b[38;2;0;200;0m.\u001b[38;2;0;0;0m\u001b[48;2;255;255;255m\u001b[48;2;255;255;255m\u001b[38;2;0;200;0m.\u001b[38;2;0;0;0m\u001b[48;2;255;255;255m\u001b[48;2;255;255;255m\u001b[38;2;0;200;0m.\u001b[38;2;0;0;0m\u001b[48;2;255;255;255m\u001b[48;2;255;255;255m\u001b[38;2;0;200;0m.\u001b[38;2;0;0;0m\u001b[48;2;255;255;255m\u001b[48;2;255;255;255m\u001b[38;2;0;200;0m.\u001b[38;2;0;0;0m\u001b[48;2;255;255;255m\u001b[48;2;255;255;255m\u001b[38;2;0;200;0m.\u001b[38;2;0;0;0m\u001b[48;2;255;255;255m\u001b[48;2;255;255;255m\u001b[38;2;0;200;0m.\u001b[38;2;0;0;0m\u001b[48;2;255;255;255m\u001b[48;2;255;255;255m\u001b[38;2;0;200;0m.\u001b[38;2;0;0;0m\u001b[48;2;255;255;255m\u001b[48;2;255;255;255m\u001b[38;2;0;200;0m.\u001b[38;2;0;0;0m\u001b[48;2;255;255;255m\n",
      "\u001b[48;2;255;255;255m\u001b[38;2;0;200;0m.\u001b[38;2;0;0;0m\u001b[48;2;255;255;255m\u001b[48;2;255;255;255m\u001b[38;2;0;200;0m.\u001b[38;2;0;0;0m\u001b[48;2;255;255;255m\u001b[48;2;255;255;255m\u001b[38;2;0;200;0m.\u001b[38;2;0;0;0m\u001b[48;2;255;255;255m\u001b[48;2;255;255;255m\u001b[38;2;0;200;0m.\u001b[38;2;0;0;0m\u001b[48;2;255;255;255m\u001b[48;2;255;255;255m\u001b[38;2;0;200;0m.\u001b[38;2;0;0;0m\u001b[48;2;255;255;255m\u001b[48;2;255;255;255m\u001b[38;2;0;200;0m.\u001b[38;2;0;0;0m\u001b[48;2;255;255;255m\u001b[48;2;255;255;255m\u001b[38;2;0;200;0m.\u001b[38;2;0;0;0m\u001b[48;2;255;255;255m\u001b[48;2;255;255;255m\u001b[38;2;0;200;0m.\u001b[38;2;0;0;0m\u001b[48;2;255;255;255m\u001b[48;2;255;255;255m\u001b[38;2;0;200;0m.\u001b[38;2;0;0;0m\u001b[48;2;255;255;255m\u001b[48;2;255;255;255m\u001b[38;2;0;200;0m.\u001b[38;2;0;0;0m\u001b[48;2;255;255;255m\u001b[48;2;255;255;255m\u001b[38;2;0;200;0m.\u001b[38;2;0;0;0m\u001b[48;2;255;255;255m\u001b[48;2;255;255;255m\u001b[38;2;0;200;0m.\u001b[38;2;0;0;0m\u001b[48;2;255;255;255m\u001b[48;2;255;255;255m\u001b[38;2;0;200;0m.\u001b[38;2;0;0;0m\u001b[48;2;255;255;255m\u001b[48;2;255;255;255m\u001b[38;2;0;200;0m.\u001b[38;2;0;0;0m\u001b[48;2;255;255;255m\u001b[48;2;255;255;255m\u001b[38;2;0;200;0m.\u001b[38;2;0;0;0m\u001b[48;2;255;255;255m\u001b[48;2;255;255;255m\u001b[38;2;0;200;0m.\u001b[38;2;0;0;0m\u001b[48;2;255;255;255m\u001b[48;2;255;255;255m\u001b[38;2;0;200;0m.\u001b[38;2;0;0;0m\u001b[48;2;255;255;255m\u001b[48;2;255;255;255m\u001b[38;2;0;200;0m.\u001b[38;2;0;0;0m\u001b[48;2;255;255;255m\u001b[48;2;255;255;255m\u001b[38;2;0;200;0m.\u001b[38;2;0;0;0m\u001b[48;2;255;255;255m\u001b[48;2;255;255;255m\u001b[38;2;0;200;0m.\u001b[38;2;0;0;0m\u001b[48;2;255;255;255m\n",
      "\u001b[48;2;255;255;255m\u001b[38;2;0;200;0m.\u001b[38;2;0;0;0m\u001b[48;2;255;255;255m\u001b[48;2;255;255;255m\u001b[38;2;0;200;0m.\u001b[38;2;0;0;0m\u001b[48;2;255;255;255m\u001b[48;2;255;255;255m\u001b[38;2;0;200;0m.\u001b[38;2;0;0;0m\u001b[48;2;255;255;255m\u001b[48;2;255;255;255m\u001b[38;2;0;200;0m.\u001b[38;2;0;0;0m\u001b[48;2;255;255;255m\u001b[48;2;255;255;255m\u001b[38;2;0;200;0m.\u001b[38;2;0;0;0m\u001b[48;2;255;255;255m\u001b[48;2;255;255;255m\u001b[38;2;0;200;0m.\u001b[38;2;0;0;0m\u001b[48;2;255;255;255m\u001b[48;2;255;255;255m\u001b[38;2;0;200;0m.\u001b[38;2;0;0;0m\u001b[48;2;255;255;255m\u001b[48;2;255;255;255m\u001b[38;2;0;200;0m.\u001b[38;2;0;0;0m\u001b[48;2;255;255;255m\u001b[48;2;255;255;255m\u001b[38;2;0;200;0m.\u001b[38;2;0;0;0m\u001b[48;2;255;255;255m\u001b[48;2;255;255;255m\u001b[38;2;0;200;0m.\u001b[38;2;0;0;0m\u001b[48;2;255;255;255m\u001b[48;2;255;255;255m\u001b[38;2;0;200;0m.\u001b[38;2;0;0;0m\u001b[48;2;255;255;255m\u001b[48;2;255;255;255m\u001b[38;2;0;200;0m.\u001b[38;2;0;0;0m\u001b[48;2;255;255;255m\u001b[48;2;255;255;255m\u001b[38;2;0;200;0m.\u001b[38;2;0;0;0m\u001b[48;2;255;255;255m\u001b[48;2;255;255;255m\u001b[38;2;0;200;0m.\u001b[38;2;0;0;0m\u001b[48;2;255;255;255m\u001b[48;2;255;255;255m\u001b[38;2;0;200;0m.\u001b[38;2;0;0;0m\u001b[48;2;255;255;255m\u001b[48;2;255;255;255m\u001b[38;2;0;200;0m.\u001b[38;2;0;0;0m\u001b[48;2;255;255;255m\u001b[48;2;255;255;255m\u001b[38;2;0;200;0m.\u001b[38;2;0;0;0m\u001b[48;2;255;255;255m\u001b[48;2;255;255;255m\u001b[38;2;0;200;0m.\u001b[38;2;0;0;0m\u001b[48;2;255;255;255m\u001b[48;2;255;255;255m\u001b[38;2;0;200;0m.\u001b[38;2;0;0;0m\u001b[48;2;255;255;255m\u001b[48;2;255;255;255m\u001b[38;2;0;200;0m.\u001b[38;2;0;0;0m\u001b[48;2;255;255;255m\n",
      "\u001b[48;2;255;255;255m\u001b[38;2;0;200;0m.\u001b[38;2;0;0;0m\u001b[48;2;255;255;255m\u001b[48;2;255;255;255m\u001b[38;2;0;200;0m.\u001b[38;2;0;0;0m\u001b[48;2;255;255;255m\u001b[48;2;255;255;255m\u001b[38;2;0;200;0m.\u001b[38;2;0;0;0m\u001b[48;2;255;255;255m\u001b[48;2;255;255;255m\u001b[38;2;0;200;0m.\u001b[38;2;0;0;0m\u001b[48;2;255;255;255m\u001b[48;2;255;255;255m\u001b[38;2;0;200;0m.\u001b[38;2;0;0;0m\u001b[48;2;255;255;255m\u001b[48;2;255;255;255m\u001b[38;2;0;200;0m.\u001b[38;2;0;0;0m\u001b[48;2;255;255;255m\u001b[48;2;255;255;255m\u001b[38;2;0;200;0m.\u001b[38;2;0;0;0m\u001b[48;2;255;255;255m\u001b[48;2;255;255;255m\u001b[38;2;0;200;0m.\u001b[38;2;0;0;0m\u001b[48;2;255;255;255m\u001b[48;2;255;255;255m\u001b[38;2;0;200;0m.\u001b[38;2;0;0;0m\u001b[48;2;255;255;255m\u001b[48;2;255;255;255m\u001b[38;2;0;200;0m.\u001b[38;2;0;0;0m\u001b[48;2;255;255;255m\u001b[48;2;255;255;255m\u001b[38;2;0;200;0m.\u001b[38;2;0;0;0m\u001b[48;2;255;255;255m\u001b[48;2;255;255;255m\u001b[38;2;0;200;0m.\u001b[38;2;0;0;0m\u001b[48;2;255;255;255m\u001b[48;2;255;255;255m\u001b[38;2;0;200;0m.\u001b[38;2;0;0;0m\u001b[48;2;255;255;255m\u001b[48;2;255;255;255m\u001b[38;2;0;200;0m.\u001b[38;2;0;0;0m\u001b[48;2;255;255;255m\u001b[48;2;255;255;255m\u001b[38;2;0;200;0m.\u001b[38;2;0;0;0m\u001b[48;2;255;255;255m\u001b[48;2;255;255;255m\u001b[38;2;0;200;0m.\u001b[38;2;0;0;0m\u001b[48;2;255;255;255m\u001b[48;2;255;255;255m\u001b[38;2;0;200;0m.\u001b[38;2;0;0;0m\u001b[48;2;255;255;255m\u001b[48;2;255;255;255m\u001b[38;2;0;200;0m.\u001b[38;2;0;0;0m\u001b[48;2;255;255;255m\u001b[48;2;255;255;255m\u001b[38;2;0;200;0m.\u001b[38;2;0;0;0m\u001b[48;2;255;255;255m\u001b[48;2;255;255;255m\u001b[38;2;0;200;0m.\u001b[38;2;0;0;0m\u001b[48;2;255;255;255m\n",
      "\u001b[48;2;255;255;255m\u001b[38;2;0;200;0m.\u001b[38;2;0;0;0m\u001b[48;2;255;255;255m\u001b[48;2;255;255;255m\u001b[38;2;0;200;0m.\u001b[38;2;0;0;0m\u001b[48;2;255;255;255m\u001b[48;2;255;255;255m\u001b[38;2;0;200;0m.\u001b[38;2;0;0;0m\u001b[48;2;255;255;255m\u001b[48;2;255;255;255m\u001b[38;2;0;200;0m.\u001b[38;2;0;0;0m\u001b[48;2;255;255;255m\u001b[48;2;255;255;255m\u001b[38;2;0;200;0m.\u001b[38;2;0;0;0m\u001b[48;2;255;255;255m\u001b[48;2;255;255;255m\u001b[38;2;0;200;0m.\u001b[38;2;0;0;0m\u001b[48;2;255;255;255m\u001b[48;2;255;255;255m\u001b[38;2;0;200;0m.\u001b[38;2;0;0;0m\u001b[48;2;255;255;255m\u001b[48;2;255;255;255m\u001b[38;2;0;200;0m.\u001b[38;2;0;0;0m\u001b[48;2;255;255;255m\u001b[48;2;255;255;255m\u001b[38;2;0;200;0m.\u001b[38;2;0;0;0m\u001b[48;2;255;255;255m\u001b[48;2;255;255;255m\u001b[38;2;0;200;0m.\u001b[38;2;0;0;0m\u001b[48;2;255;255;255m\u001b[48;2;255;255;255m\u001b[38;2;0;200;0m.\u001b[38;2;0;0;0m\u001b[48;2;255;255;255m\u001b[48;2;255;255;255m\u001b[38;2;0;200;0m.\u001b[38;2;0;0;0m\u001b[48;2;255;255;255m\u001b[48;2;255;255;255m\u001b[38;2;0;200;0m.\u001b[38;2;0;0;0m\u001b[48;2;255;255;255m\u001b[48;2;255;255;255m\u001b[38;2;0;200;0m.\u001b[38;2;0;0;0m\u001b[48;2;255;255;255m\u001b[48;2;255;255;255m\u001b[38;2;0;200;0m.\u001b[38;2;0;0;0m\u001b[48;2;255;255;255m\u001b[48;2;255;255;255m\u001b[38;2;0;200;0m.\u001b[38;2;0;0;0m\u001b[48;2;255;255;255m\u001b[48;2;255;255;255m\u001b[38;2;0;200;0m.\u001b[38;2;0;0;0m\u001b[48;2;255;255;255m\u001b[48;2;255;255;255m\u001b[38;2;0;200;0m.\u001b[38;2;0;0;0m\u001b[48;2;255;255;255m\u001b[48;2;255;255;255m\u001b[38;2;0;200;0m.\u001b[38;2;0;0;0m\u001b[48;2;255;255;255m\u001b[48;2;255;255;255m\u001b[38;2;0;200;0m.\u001b[38;2;0;0;0m\u001b[48;2;255;255;255m\n"
     ]
    }
   ],
   "source": [
    "OBJ = Rogue_Environment()\n",
    "OBJ.sameTileArray('grass',10,20)\n",
    "OBJ.display()"
   ]
  },
  {
   "cell_type": "code",
   "execution_count": 7,
   "metadata": {
    "collapsed": false
   },
   "outputs": [],
   "source": []
  },
  {
   "cell_type": "code",
   "execution_count": null,
   "metadata": {
    "collapsed": true
   },
   "outputs": [],
   "source": []
  },
  {
   "cell_type": "markdown",
   "metadata": {
    "collapsed": true
   },
   "source": [
    "## 18062019 : (16:32) : Classe Abstratas de Digestor e BrainWashing : Digestor 7"
   ]
  },
  {
   "cell_type": "code",
   "execution_count": 53,
   "metadata": {
    "collapsed": true
   },
   "outputs": [],
   "source": [
    "%run digestor7.py"
   ]
  },
  {
   "cell_type": "code",
   "execution_count": null,
   "metadata": {
    "collapsed": true
   },
   "outputs": [],
   "source": [
    "# Ideias novas para o digestor 8\n",
    "# 1) MODO INVENTARIO\n",
    "# - Alterna entre três submodos, o modo inventario, o modo adicao, o modo estudo\n",
    "# - o modo adicao é semelhante ao modo expansao\n",
    "# - o modo inventario é o modo em que o geradorPerguntas será substituido por um gerador de palavras chave\n",
    "# -- Cada palavra chave terá associado uma lista de informações que depois serão calculadas o tamanho\n",
    "# --- Essa lista de informações é alimentada da mesma maneira que a adição, entretanto não modifica arquivos salvos\n",
    "# -- o objetivo do modo inventario é conseguir lembrar do máximo de informações associado a uma palavra-chave\n",
    "# -- No modo inventario será mostrado a lista das informações associadas a palavra-chave\n",
    "# - o modo estudo é semelhante ao modo default\n",
    "# - o modo inventario adiciona por meio de !\n",
    "# - Depois do Termino do Modo Inventario será feito o calculo do numero de informações total e de cada palavra-chave"
   ]
  },
  {
   "cell_type": "code",
   "execution_count": 53,
   "metadata": {
    "collapsed": false
   },
   "outputs": [
    {
     "data": {
      "text/plain": [
       "[1, 2, 3]"
      ]
     },
     "execution_count": 53,
     "metadata": {},
     "output_type": "execute_result"
    }
   ],
   "source": [
    "[1,2,3,4][:-1]"
   ]
  },
  {
   "cell_type": "code",
   "execution_count": 55,
   "metadata": {
    "collapsed": false,
    "scrolled": false
   },
   "outputs": [
    {
     "name": "stdout",
     "output_type": "stream",
     "text": [
      "Parametros de Configuracao Carregados\n",
      "\u001b[48;2;0;0;0m\u001b[38;2;255;0;0m Nivel : 20 : [------------------------------------------] 0.0 % \u001b[38;2;0;0;0m\u001b[48;2;255;255;255m\n",
      "FORA DO ESTOMAGO : Estudo Normal\n"
     ]
    }
   ],
   "source": [
    "DG_01 = digestor(INVENTARIO=None,SEPARADOR=';',ARQUIVOSAVE='ARQUIVO_TESTE2')\n",
    "DG_01.estudo(20)"
   ]
  },
  {
   "cell_type": "markdown",
   "metadata": {},
   "source": [
    "## 20062019 : (13:29) : digestor 8 : \n",
    "\n",
    "implementação de modo temporário de inventário com opção de escape :"
   ]
  },
  {
   "cell_type": "code",
   "execution_count": 6,
   "metadata": {
    "collapsed": true
   },
   "outputs": [],
   "source": [
    "%run digestor8.py"
   ]
  },
  {
   "cell_type": "code",
   "execution_count": 7,
   "metadata": {
    "collapsed": false
   },
   "outputs": [
    {
     "name": "stdout",
     "output_type": "stream",
     "text": [
      "Parametros de Configuracao Salvos em Arquivo : config/ARQUIVO_TESTE2_config\n",
      "\u001b[48;2;0;0;0m\u001b[38;2;81;173;0m Nivel : 0 : [#############################-------------] 68.0 % \u001b[38;2;0;0;0m\u001b[48;2;255;255;255m\n",
      "\u001b[48;2;0;0;0m\u001b[38;2;137;117;0m Nivel : 1 : [###################-----------------------] 46.0 % \u001b[38;2;0;0;0m\u001b[48;2;255;255;255m\n",
      "\u001b[48;2;0;0;0m\u001b[38;2;168;86;0m Nivel : 2 : [##############----------------------------] 34.0 % \u001b[38;2;0;0;0m\u001b[48;2;255;255;255m\n",
      "\u001b[48;2;0;0;0m\u001b[38;2;193;61;0m Nivel : 3 : [##########--------------------------------] 24.0 % \u001b[38;2;0;0;0m\u001b[48;2;255;255;255m\n",
      "\u001b[48;2;0;0;0m\u001b[38;2;209;45;0m Nivel : 4 : [########----------------------------------] 18.0 % \u001b[38;2;0;0;0m\u001b[48;2;255;255;255m\n",
      "\u001b[48;2;0;0;0m\u001b[38;2;229;25;0m Nivel : 5 : [####--------------------------------------] 10.0 % \u001b[38;2;0;0;0m\u001b[48;2;255;255;255m\n",
      "\u001b[48;2;0;0;0m\u001b[38;2;239;15;0m Nivel : 6 : [###---------------------------------------] 6.0 % \u001b[38;2;0;0;0m\u001b[48;2;255;255;255m\n",
      "\u001b[48;2;0;0;0m\u001b[38;2;255;0;0m Nivel : 7 : [------------------------------------------] 0.0 % \u001b[38;2;0;0;0m\u001b[48;2;255;255;255m\n",
      "\u001b[48;2;0;0;0m\u001b[38;2;255;0;0m Nivel : 8 : [------------------------------------------] 0.0 % \u001b[38;2;0;0;0m\u001b[48;2;255;255;255m\n",
      "\u001b[48;2;0;0;0m\u001b[38;2;255;0;0m Nivel : 9 : [------------------------------------------] 0.0 % \u001b[38;2;0;0;0m\u001b[48;2;255;255;255m\n",
      "\u001b[48;2;0;0;0m\u001b[38;2;255;0;0m Nivel : 10 : [------------------------------------------] 0.0 % \u001b[38;2;0;0;0m\u001b[48;2;255;255;255m\n",
      "\u001b[48;2;0;0;0m\u001b[38;2;255;0;0m Nivel : 11 : [------------------------------------------] 0.0 % \u001b[38;2;0;0;0m\u001b[48;2;255;255;255m\n",
      "PROGRAMA FECHADO\n"
     ]
    }
   ],
   "source": [
    "DG_01 = digestor(INVENTARIO=None,SEPARADOR=';',ARQUIVOSAVE='ARQUIVO_TESTE2', EXITMODE='invoc')\n",
    "DG_01.estudo(20)"
   ]
  },
  {
   "cell_type": "code",
   "execution_count": 5,
   "metadata": {
    "collapsed": false
   },
   "outputs": [
    {
     "name": "stdout",
     "output_type": "stream",
     "text": [
      "Parametros de Configuracao Salvos em Arquivo : config/ARQUIVO_TESTE2_config\n",
      "\u001b[48;2;0;0;0m\u001b[38;2;81;173;0m Nivel : 0 : [#############################-------------] 68.0 % \u001b[38;2;0;0;0m\u001b[48;2;255;255;255m\n",
      "\u001b[48;2;0;0;0m\u001b[38;2;137;117;0m Nivel : 1 : [###################-----------------------] 46.0 % \u001b[38;2;0;0;0m\u001b[48;2;255;255;255m\n",
      "\u001b[48;2;0;0;0m\u001b[38;2;168;86;0m Nivel : 2 : [##############----------------------------] 34.0 % \u001b[38;2;0;0;0m\u001b[48;2;255;255;255m\n",
      "\u001b[48;2;0;0;0m\u001b[38;2;193;61;0m Nivel : 3 : [##########--------------------------------] 24.0 % \u001b[38;2;0;0;0m\u001b[48;2;255;255;255m\n",
      "\u001b[48;2;0;0;0m\u001b[38;2;209;45;0m Nivel : 4 : [########----------------------------------] 18.0 % \u001b[38;2;0;0;0m\u001b[48;2;255;255;255m\n",
      "\u001b[48;2;0;0;0m\u001b[38;2;229;25;0m Nivel : 5 : [####--------------------------------------] 10.0 % \u001b[38;2;0;0;0m\u001b[48;2;255;255;255m\n",
      "\u001b[48;2;0;0;0m\u001b[38;2;239;15;0m Nivel : 6 : [###---------------------------------------] 6.0 % \u001b[38;2;0;0;0m\u001b[48;2;255;255;255m\n",
      "\u001b[48;2;0;0;0m\u001b[38;2;255;0;0m Nivel : 7 : [------------------------------------------] 0.0 % \u001b[38;2;0;0;0m\u001b[48;2;255;255;255m\n",
      "\u001b[48;2;0;0;0m\u001b[38;2;255;0;0m Nivel : 8 : [------------------------------------------] 0.0 % \u001b[38;2;0;0;0m\u001b[48;2;255;255;255m\n",
      "\u001b[48;2;0;0;0m\u001b[38;2;255;0;0m Nivel : 9 : [------------------------------------------] 0.0 % \u001b[38;2;0;0;0m\u001b[48;2;255;255;255m\n",
      "\u001b[48;2;0;0;0m\u001b[38;2;255;0;0m Nivel : 10 : [------------------------------------------] 0.0 % \u001b[38;2;0;0;0m\u001b[48;2;255;255;255m\n",
      "\u001b[48;2;0;0;0m\u001b[38;2;255;0;0m Nivel : 11 : [------------------------------------------] 0.0 % \u001b[38;2;0;0;0m\u001b[48;2;255;255;255m\n",
      "PROGRAMA FECHADO\n"
     ]
    }
   ],
   "source": [
    "DG_02 = digestor_InvEst(arquivosave='ARQUIVO_TESTE2')\n",
    "DG_02.estudo(10)"
   ]
  },
  {
   "cell_type": "code",
   "execution_count": 8,
   "metadata": {
    "collapsed": false
   },
   "outputs": [
    {
     "name": "stdout",
     "output_type": "stream",
     "text": [
      "Parametros de Configuracao Salvos em Arquivo : config/ARQUIVO_TESTE2_config\n",
      "\u001b[48;2;0;0;0m\u001b[38;2;81;173;0m Nivel : 0 : [#############################-------------] 68.0 % \u001b[38;2;0;0;0m\u001b[48;2;255;255;255m\n",
      "\u001b[48;2;0;0;0m\u001b[38;2;137;117;0m Nivel : 1 : [###################-----------------------] 46.0 % \u001b[38;2;0;0;0m\u001b[48;2;255;255;255m\n",
      "\u001b[48;2;0;0;0m\u001b[38;2;168;86;0m Nivel : 2 : [##############----------------------------] 34.0 % \u001b[38;2;0;0;0m\u001b[48;2;255;255;255m\n",
      "\u001b[48;2;0;0;0m\u001b[38;2;193;61;0m Nivel : 3 : [##########--------------------------------] 24.0 % \u001b[38;2;0;0;0m\u001b[48;2;255;255;255m\n",
      "\u001b[48;2;0;0;0m\u001b[38;2;209;45;0m Nivel : 4 : [########----------------------------------] 18.0 % \u001b[38;2;0;0;0m\u001b[48;2;255;255;255m\n",
      "\u001b[48;2;0;0;0m\u001b[38;2;229;25;0m Nivel : 5 : [####--------------------------------------] 10.0 % \u001b[38;2;0;0;0m\u001b[48;2;255;255;255m\n",
      "\u001b[48;2;0;0;0m\u001b[38;2;239;15;0m Nivel : 6 : [###---------------------------------------] 6.0 % \u001b[38;2;0;0;0m\u001b[48;2;255;255;255m\n",
      "\u001b[48;2;0;0;0m\u001b[38;2;255;0;0m Nivel : 7 : [------------------------------------------] 0.0 % \u001b[38;2;0;0;0m\u001b[48;2;255;255;255m\n",
      "\u001b[48;2;0;0;0m\u001b[38;2;255;0;0m Nivel : 8 : [------------------------------------------] 0.0 % \u001b[38;2;0;0;0m\u001b[48;2;255;255;255m\n",
      "\u001b[48;2;0;0;0m\u001b[38;2;255;0;0m Nivel : 9 : [------------------------------------------] 0.0 % \u001b[38;2;0;0;0m\u001b[48;2;255;255;255m\n",
      "\u001b[48;2;0;0;0m\u001b[38;2;255;0;0m Nivel : 10 : [------------------------------------------] 0.0 % \u001b[38;2;0;0;0m\u001b[48;2;255;255;255m\n",
      "\u001b[48;2;0;0;0m\u001b[38;2;255;0;0m Nivel : 11 : [------------------------------------------] 0.0 % \u001b[38;2;0;0;0m\u001b[48;2;255;255;255m\n",
      "PROGRAMA FECHADO\n"
     ]
    }
   ],
   "source": [
    "DG_03 = digestor_InvExp(arquivosave='ARQUIVO_TESTE2')\n",
    "DG_03.estudo(10)"
   ]
  }
 ],
 "metadata": {
  "anaconda-cloud": {},
  "kernelspec": {
   "display_name": "Python 3",
   "language": "python",
   "name": "python3"
  },
  "language_info": {
   "codemirror_mode": {
    "name": "ipython",
    "version": 3
   },
   "file_extension": ".py",
   "mimetype": "text/x-python",
   "name": "python",
   "nbconvert_exporter": "python",
   "pygments_lexer": "ipython3",
   "version": "3.5.1"
  },
  "widgets": {
   "state": {},
   "version": "1.1.2"
  }
 },
 "nbformat": 4,
 "nbformat_minor": 0
}
