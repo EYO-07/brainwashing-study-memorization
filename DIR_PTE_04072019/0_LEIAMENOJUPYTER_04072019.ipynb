{
 "cells": [
  {
   "cell_type": "markdown",
   "metadata": {},
   "source": [
    "# Rotina de Estudo e Memorização - Digestor - Versão 12\n",
    "\n",
    "Este algoritmo faz parte do paradigma de estudo trialético, o paradigma de estudo trialético consiste em três etapas: \n",
    "\n",
    "1. <b>Memorização ~ Emoção</b>: Parte do estudo em que se cria fórmulas, em que se cria nomes, em que se cria artifícios para facilitar a memorização de uma teoria.\n",
    "2. <b>Análise ~ Intelecto </b>: Parte do estudo com o objetivo de analisar o conteúdo de verdade da teoria, analisar demonstrações, analisar deduções, fazer perguntas.\n",
    "3. <b>Aplicação ~ Vontade </b>: Parte do estudo que tem como objetivo utilizar a teoria para finalidades práticas, que inclui também resolução de exercícios teóricos, implementação computacional ou mesmo desenvolvimento de teorias axiomáticas.\n",
    "\n",
    "A motivação da trialética é filosófica, a trialética (Emoção, Intelecto, Vontade) corresponde aos três eixos da mente, os três desejos que a consciência humana busca satisfazer associados a percepção, a compreensão e a ação. \n",
    "\n",
    "Este algoritmo cuida da parte da <b>memorização</b>, a parte de <b>análise</b> e <b>aplicação</b> devem ser feitas utilizando outros recursos (recursos tradicionais ou versões modificadas deste algoritmo). A justificativa para ser dada atenção separada a parte da memorização é que a medida que a cultura humana se torna mais complicada, estamos gastando muito tempo com estudo.\n",
    "\n",
    "Dentro da <b>memorização</b> temos dois outros tipos de estudo, a <b>invocação</b> que tem como objetivo enumerar o maior número de informações sobre determinado tópico e o processo de <b>resgate</b> que tem como objetivo a partir de um nome ou de uma descrição vaga, resgatar seu conteúdo preciso.\n",
    "\n",
    "Defino como o <b>estudo tradicional</b> o estudo dividido nas etapas de <b>Exposição de Conteúdo</b> e <b>Exercícios</b>. O estudo tradicional deixa implícito a parte de memorização de conteúdo, a Exposição de Conteúdo Corresponde a Junção entre a Parte de Memorização e a parte de Análise. No método trialético cada etapa deve ser executada com o mesmo cuidado, e a etapa mais elementar é a de <b>memorização</b>, sem memorização não existe <b>raciocínio</b>.\n",
    "\n",
    "O paradigma de estudo trialético tem como objetivo contornar o problema da falta de tempo e da densidade de conteúdo com o uso de algoritmos pseudoaleatórios para auxiliar na memorização, etapa esta que exige maior esforço e que é menos divertida do que as outras duas subsequentes.\n",
    "\n",
    "Este método tenta preservar uma <b>uniformidade</b> entre as informações, diferente de uma exposição oral que tem caráter <b>linear</b>, ou uma exposição de uma teoria, as informações memorizadas por este método tem como objetivo uma associação uniforme entre o assunto e os conteúdos. É útil quando o objetivo é aplicar o conhecimento, mas não tão útil quando o objetivo for a sua exposição."
   ]
  },
  {
   "cell_type": "markdown",
   "metadata": {},
   "source": [
    "# ALGORITMO"
   ]
  },
  {
   "cell_type": "code",
   "execution_count": 7,
   "metadata": {
    "collapsed": true
   },
   "outputs": [],
   "source": [
    "# Rode esta celula para carregar a classe digestor versão 12\n",
    "%run textInterface03072019_1.py"
   ]
  },
  {
   "cell_type": "code",
   "execution_count": null,
   "metadata": {
    "collapsed": true
   },
   "outputs": [],
   "source": [
    "# Para alterar/vizualizar o conteúdo do digestor rode %load digestor12.py\n",
    "# Para sobrescrever o conteúdo do digestor rode %%writefile digestor12.py"
   ]
  },
  {
   "cell_type": "markdown",
   "metadata": {},
   "source": [
    "# EXEMPLO DE USO"
   ]
  },
  {
   "cell_type": "markdown",
   "metadata": {},
   "source": [
    "## 1) Digestor Normal\n",
    "\n",
    "Neste modo de estudo o programa irá sortear (caso haja inventário de nomes) informações do inventário de informações. Caso você lembre do conteúdo preciso (traduzir o nome para o significado, escrever a fórmula, enunciar o teorema) então você deve digitar +, caso contrário deve digitar -. \n",
    "\n",
    "Quando o progresso chegar a 100 % você deve aumentar o nível (funciona como estudo repetitivo). \n",
    "\n",
    "Para adicionar informações basta digitar o nome da informação seguido de ponto de interrogação. Para adicionar muitplas informações separe usando o separador (no caso abaixo o ponto e vírgula). \n",
    "\n",
    "Também é possível fornecer informações usando uma variável string do python, basta colocar INVENTARIO=nome_da_variavel.\n",
    "\n",
    "Para sair e salvar o arquivo digite @exit"
   ]
  },
  {
   "cell_type": "code",
   "execution_count": 8,
   "metadata": {
    "collapsed": false
   },
   "outputs": [
    {
     "name": "stdout",
     "output_type": "stream",
     "text": [
      "Parametros de Configuracao Carregados\n",
      "digite @set mode expansion para selecionar modo expansao de inventario ou...\n",
      "... digite uma informação seguida de ponto de interrogação para adicionar informação no modo normal.\n",
      "\u001b[48;2;0;0;0m\u001b[38;2;255;0;0m Nivel : 0 : [------------------------------------------] 0.0 % \u001b[38;2;0;0;0m\u001b[48;2;255;255;255m\n"
     ]
    }
   ],
   "source": [
    "# rode esta celula para executar rotina digestor de estudo normal\n",
    "DG_01 = digestor(INVENTARIO=None,SEPARADOR=';',ARQUIVOSAVE='ARQUIVO_TESTE1')\n",
    "DG_01.topicoPrincipal = ' Teoria [ Sem Nome ] : digite @set char para configurar o nome da teoria '\n",
    "DG_01.estudo(NIVEL=0) # caso nao consiga carregar a interface aumente o NIVEL"
   ]
  },
  {
   "cell_type": "markdown",
   "metadata": {},
   "source": [
    "## 2) Digestor em Modo Invocativo e Estudo \n",
    "\n",
    "O modo invocativo consiste em tentar lembrar do máximo número de informações da teoria associada a palavra-chave em um período limitado de tempo. Depois de terminado o modo invocativo o modo de estudo normal é ativado. Existem comandos para mudar os modos de estudo manualmente, digite @help para ter essas informações."
   ]
  },
  {
   "cell_type": "code",
   "execution_count": 9,
   "metadata": {
    "collapsed": false
   },
   "outputs": [
    {
     "name": "stdout",
     "output_type": "stream",
     "text": [
      "Parametros de Configuracao Carregados\n",
      "digite @set mode expansion para selecionar modo expansao de inventario ou...\n",
      "... digite uma informação seguida de ponto de interrogação para adicionar informação no modo normal.\n",
      "\u001b[48;2;0;0;0m\u001b[38;2;255;0;0m Nivel : 0 : [------------------------------------------] 0.0 % \u001b[38;2;0;0;0m\u001b[48;2;255;255;255m\n"
     ]
    }
   ],
   "source": [
    "# digestor inicializando com modo invocativo e depois estudo normal\n",
    "DG_02 = digestor_InvEst(arquivosave='ARQUIVO_TESTE2')\n",
    "DG_02.estudo(NIVEL=0) # caso nao consiga carregar a interface aumente o NIVEL"
   ]
  },
  {
   "cell_type": "markdown",
   "metadata": {},
   "source": [
    "## 3) Digestor em Modo Invocativo e Modo Expansão\n",
    "\n",
    "O modo expasão consiste em um modo que alterna entre estudo e expansão da teoria, ele força você a expandir a teoria. Neste modo recomenda-se usar [ @set last page ] para gravar a última página lida da fonte da teoria (livro), para resgatar a informação basta digitar [ @last page ]."
   ]
  },
  {
   "cell_type": "code",
   "execution_count": 10,
   "metadata": {
    "collapsed": false
   },
   "outputs": [
    {
     "name": "stdout",
     "output_type": "stream",
     "text": [
      "Parametros de Configuracao Carregados\n",
      "digite @set mode expansion para selecionar modo expansao de inventario ou...\n",
      "... digite uma informação seguida de ponto de interrogação para adicionar informação no modo normal.\n",
      "\u001b[48;2;0;0;0m\u001b[38;2;255;0;0m Nivel : 0 : [------------------------------------------] 0.0 % \u001b[38;2;0;0;0m\u001b[48;2;255;255;255m\n"
     ]
    }
   ],
   "source": [
    "# digestor inicializando com modo invocativo e depois estudo em modo expansão\n",
    "DG_03 = digestor_InvExp(arquivosave='ARQUIVO_TESTE3')\n",
    "DG_03.estudo(NIVEL=0) # caso nao consiga carregar a interface aumente o NIVEL"
   ]
  },
  {
   "cell_type": "markdown",
   "metadata": {},
   "source": [
    "## 4) Comando para Estudar Módulos Python"
   ]
  },
  {
   "cell_type": "code",
   "execution_count": 11,
   "metadata": {
    "collapsed": false
   },
   "outputs": [
    {
     "name": "stdout",
     "output_type": "stream",
     "text": [
      "Parametros de Configuracao Carregados\n",
      "digite @set mode expansion para selecionar modo expansao de inventario ou...\n",
      "... digite uma informação seguida de ponto de interrogação para adicionar informação no modo normal.\n",
      "\u001b[48;2;0;0;0m\u001b[38;2;255;0;0m Nivel : 0 : [------------------------------------------] 0.0 % \u001b[38;2;0;0;0m\u001b[48;2;255;255;255m\n"
     ]
    }
   ],
   "source": [
    "# ESTUDO DE MODULOS PYTHON\n",
    "# digestor teste python \n",
    "# digite @python module\n",
    "# ... sera carregado um widget de envio, digite builtins\n",
    "DG_PYTHON = digestor_InvEst(arquivosave='26062019_teste')\n",
    "DG_PYTHON.estudo(NIVEL=0)"
   ]
  },
  {
   "cell_type": "markdown",
   "metadata": {},
   "source": [
    "## 5) Dialética Socrática"
   ]
  },
  {
   "cell_type": "code",
   "execution_count": 12,
   "metadata": {
    "collapsed": false
   },
   "outputs": [
    {
     "name": "stdout",
     "output_type": "stream",
     "text": [
      "\n",
      "    ------------------------------------------------------------------------------------\n",
      "    Interface de Dialética Socrática\n",
      "    ------------------------------------------------------------------------------------\n",
      "    A dialética socrática tem dois tempos distintos, o primeiro tempo é a ironia em que \n",
      "        sócrates esgotava o interlocutor com perguntas até que ele se declarasse\n",
      "        ignorante, somente assim ele poderia alcançar a verdadeira sabedoria.\n",
      "    O segundo tempo do diálogo socrático corresponde a maiêutica em que próprio \n",
      "        interlocutor auxiliado por sócrates seria responsável por achar as respostas\n",
      "        para as perguntas.\n",
      "    Nesta interface não há estes dois tempos, e também não há duas entidades conscientes.\n",
      "        O que se espera que seja feito é uma espécie de diálogo de você com você mesmo\n",
      "        alternando entre o papel de questionador e propositor, você deve definir os tempos \n",
      "        do diálogo socrático ao seu gosto, mas é sugerido que se esforce nas perguntas antes \n",
      "        de tentar responder e que toda resposta não é definitiva, mas sim uma proposição.\n",
      "    O nome é uma homenagem a Sócrates, mas o método não constitui um diálogo propriamente \n",
      "        dito, você deve arquirir as habilidades de questionar e de propor as soluções.\n",
      "    Esta interface permite que você possa organizar suas ideias, herda os benefícios do\n",
      "        paradigma de dividir para conquistar, organiza as proposições de maneira hierárquica,\n",
      "        e simula um diálogo. O que é interessante para autodidatas.\n",
      "    ------------------------------------------------------------------------------------\n",
      "    digite @help para mostrar ajuda\n",
      "    digite @exit para sair e salvar\n",
      "    digite @clear para resetar o output\n",
      "    digite @save para salvar\n",
      "    digite @load para carregar arquivo salvo\n",
      "    digite @reset save para apagar o arquivo save\n",
      "    ------------------------------------------------------------------------------------\n",
      "    digite @all para saber de tudo que foi perguntado ou respondido do assunto corrente\n",
      "    digite > para mudar o assunto corrente para uma subpergunta ou uma resposta\n",
      "    digite < para voltar ao assunto anterior\n",
      "    digite = para mudar a subpergunta ou a resposta em destaque\n",
      "    digite uma pergunta seguido de ? para adicionar uma pergunta ao assunto corrente\n",
      "    digite uma proposição seguido de ! para adicionar uma proposição ao assunto corrente\n",
      "            \n"
     ]
    }
   ],
   "source": [
    "# digite @help\n",
    "# no estudo usando digestor você pode chamar a inteface dialética socrática digitando @socrates\n",
    "DS = dialSocrates(arq_save='teste04072019')\n",
    "DS.builder()"
   ]
  },
  {
   "cell_type": "code",
   "execution_count": null,
   "metadata": {
    "collapsed": true
   },
   "outputs": [],
   "source": []
  },
  {
   "cell_type": "code",
   "execution_count": null,
   "metadata": {
    "collapsed": true
   },
   "outputs": [],
   "source": []
  }
 ],
 "metadata": {
  "anaconda-cloud": {},
  "kernelspec": {
   "display_name": "Python 3",
   "language": "python",
   "name": "python3"
  },
  "language_info": {
   "codemirror_mode": {
    "name": "ipython",
    "version": 3
   },
   "file_extension": ".py",
   "mimetype": "text/x-python",
   "name": "python",
   "nbconvert_exporter": "python",
   "pygments_lexer": "ipython3",
   "version": "3.5.1"
  },
  "widgets": {
   "state": {
    "01ed07c283ff4793bde32fdd0188501f": {
     "views": []
    },
    "02f4c0a31baa41dcae9e0b15a8cfc7b3": {
     "views": []
    },
    "032c283564744e0bbcd4e2a5e7f1ffe8": {
     "views": [
      {
       "cell_index": 8
      }
     ]
    },
    "040a235db35d4c4ca21b88f17b8e0173": {
     "views": []
    },
    "0429697298c94066b85f7acdf44592db": {
     "views": []
    },
    "07ea97f8a18a42d49830ec0eacf11656": {
     "views": []
    },
    "0ad691bcf8894dff81034fe698d468f6": {
     "views": []
    },
    "0c4a30ca711d4c8cbfe8c3b8e21d217f": {
     "views": []
    },
    "0e946f4555c2499683c936766e17531e": {
     "views": []
    },
    "10a8b7a51df845ac8119441c6fb9b937": {
     "views": []
    },
    "10e2d1f70cd84f9f8b71149fa0ae55c6": {
     "views": []
    },
    "10f682355f06431d98182b4a8ddb1d48": {
     "views": []
    },
    "13e288ca68d84564ac65a26455077369": {
     "views": []
    },
    "1473023f89fe412c914a1af5022b0286": {
     "views": []
    },
    "156e5ab7872e4b3ca9ddc3760e3e6a26": {
     "views": []
    },
    "157c86b55a6f4afd8e67821d1aedc957": {
     "views": []
    },
    "1650df793f604482b726ce1e0e1659ba": {
     "views": []
    },
    "17459487f24349d78c8062b9faf312fc": {
     "views": []
    },
    "1760c2750a654c38b14613ba283d1025": {
     "views": []
    },
    "183a4864ea78456198b330538dbb181e": {
     "views": []
    },
    "1a9224bc3bac4ccaaea0e85fafd18260": {
     "views": []
    },
    "1c821619d3634c5bb37006211e65bf94": {
     "views": []
    },
    "1cb845c9012043d19a0d0bb4190832a2": {
     "views": []
    },
    "1d256be3a09a44049c4e0d073935fdb6": {
     "views": []
    },
    "1dba41a2f24749e9bcbe9a336ab02948": {
     "views": []
    },
    "1e10085658b64bf5860396c719add12b": {
     "views": []
    },
    "1e4f575a0ec44b45b836cafdc972a750": {
     "views": []
    },
    "1e930ebe71ef4baf9ac72479b7c0e8a5": {
     "views": []
    },
    "1eb6e5e30a2f4b5b9d9f54af8f2cf50a": {
     "views": []
    },
    "202ddf4603f645308078fcce66a3af1d": {
     "views": []
    },
    "21ad2a70c1b240e4a90180d8eaedfe11": {
     "views": []
    },
    "220221dd3828480eaa889e4e5598da23": {
     "views": []
    },
    "229ceeb97dad45be9b9e758e41bf189c": {
     "views": []
    },
    "2355c088964a40b19fcaed74793e1173": {
     "views": []
    },
    "245943bb10e7402c8c0dce85cc1f208e": {
     "views": []
    },
    "25227b7ac61145b8ad58205862332830": {
     "views": []
    },
    "25dc97489bfe47188de4139803288315": {
     "views": []
    },
    "260992203c264868bcc8884f2826c224": {
     "views": [
      {
       "cell_index": 14
      }
     ]
    },
    "26d9d564376943c8ad2e137d67664c90": {
     "views": []
    },
    "26fdf3e8c0fb46e1845cd84ec92ffc5b": {
     "views": []
    },
    "29b278ed3f554a87a3d1290e77e8c9a7": {
     "views": []
    },
    "29d2b756193f4c4ea579942fc4974acf": {
     "views": []
    },
    "2a335488592848089ea46524cc424a39": {
     "views": []
    },
    "2ac90ad00a1540199be2193608be4600": {
     "views": []
    },
    "2aeff69235bb4d51965955c51ae16f6d": {
     "views": []
    },
    "2b12915f698544b99b0d599b643ac0ff": {
     "views": []
    },
    "2baf514448f24cb68eaac34cb81d12dd": {
     "views": []
    },
    "2c3b8526bbf64da2b16d7cb4510258d2": {
     "views": []
    },
    "2f6dd028377549a48b46116765cb2ea3": {
     "views": []
    },
    "30e1aef4ebc74c7686124292280c12d1": {
     "views": []
    },
    "3142ed3aef8741d9804e4fcd5e2663a1": {
     "views": []
    },
    "31b2e2690dad4da8897a1d766bbf8354": {
     "views": []
    },
    "33fa5a17039c4b7bb1b3c861980aa160": {
     "views": []
    },
    "37d0675593754be78fed2b1e8e6242c0": {
     "views": []
    },
    "3806a6bc54634f6e9260c71f4476c09d": {
     "views": []
    },
    "38241a2581924afc81345863939873d0": {
     "views": []
    },
    "387a32673e644a299d820b5649d31690": {
     "views": []
    },
    "38a98b140a7b40e4b3874dff0784918c": {
     "views": []
    },
    "3965b9263b374ec994d70557488d68cb": {
     "views": []
    },
    "39b99984cceb4fb98d1e5790b586aea6": {
     "views": []
    },
    "3bbafea40263467d8279e9890dbeca22": {
     "views": []
    },
    "3c54ea3f31e84d0588911027e0476b5e": {
     "views": []
    },
    "3cafedc1b6b84342828afce7cfd18e95": {
     "views": []
    },
    "3cc4ec7521d24b85947d1278b3bd622e": {
     "views": []
    },
    "3cfe4891a49748348e6f33bf008742f3": {
     "views": []
    },
    "3de5db48bb4d40bba021e6744dda63c0": {
     "views": []
    },
    "41232885efa04cfe9076229b94c8885d": {
     "views": []
    },
    "417dc95db581444f8e197bca017dad38": {
     "views": []
    },
    "42067ea5c9594a348b00211d43a157fc": {
     "views": []
    },
    "42d3ca4cae2740209caa6d4102890c4e": {
     "views": []
    },
    "42fbbe7e532a40eebbc5073bdd86d62b": {
     "views": []
    },
    "449d55cf2d1c4402aaf2e976f280f0b8": {
     "views": []
    },
    "4676b9d7fa924b64a5d43c6059dcf7a7": {
     "views": []
    },
    "48c9c7a99e4f4e7aaaac0c070145df6d": {
     "views": []
    },
    "4ba1b92dd86f48f0ae63d5073a1ee073": {
     "views": []
    },
    "4be1502adedf4142982ba874ba4a6d3b": {
     "views": []
    },
    "4d9d10114abb4f0a8250757ac1deb34c": {
     "views": []
    },
    "4e7a75c7d6e741719bac8156a713823d": {
     "views": []
    },
    "508005515035458cb4b763a7211cc868": {
     "views": []
    },
    "510c3b601cc9423fa4a55db722546dfb": {
     "views": []
    },
    "52670ae01acf4ddf8d298a536d8e60cd": {
     "views": []
    },
    "52836b69ae844c24869e586c3b5d0679": {
     "views": []
    },
    "532f043bb38d4bb596de7c9a81a2ca71": {
     "views": []
    },
    "54bc86cb278b4e91b528a2118c8693ce": {
     "views": []
    },
    "556bdcd49e3040fb980b47f3148af2bb": {
     "views": []
    },
    "55b91deff09e480d8cb2d0986fe413ca": {
     "views": []
    },
    "55d01c9deed249b798b2f000070282f0": {
     "views": []
    },
    "569ba2c7530d4a159824c00135d39735": {
     "views": []
    },
    "572cfe42e2a348b5b912f65aa58303dd": {
     "views": []
    },
    "573fa9dd9f3e4ac3b41502eada32efea": {
     "views": []
    },
    "57a1f1bd87344dfba8c96cc71bb117ec": {
     "views": [
      {
       "cell_index": 10
      }
     ]
    },
    "57b7b36a62c249c698cfe31d15dd9ab3": {
     "views": []
    },
    "57daa7766ec44268996345ae6d894df2": {
     "views": []
    },
    "58574086a47a43178765b30e48b6c663": {
     "views": []
    },
    "591b0be644664fbbacbed7b0fc516725": {
     "views": []
    },
    "59f72790986448cab58ec79c486c9f38": {
     "views": []
    },
    "5b13586fd4504e6cb750e2e6cbbf70c6": {
     "views": []
    },
    "5ddb356338a54f14bb07c5a9261c056f": {
     "views": []
    },
    "5f7709479c8d478a85bd1165d69a87d4": {
     "views": []
    },
    "611d0d21af644de4862cd6d54d705ba5": {
     "views": []
    },
    "617c77be9ed1478e86967310e5571659": {
     "views": []
    },
    "62799324fc9841c8b008bdc8f3a7ad16": {
     "views": []
    },
    "646303c19dfa4d16bd1b454f4044fbc3": {
     "views": []
    },
    "66874fe035554d83a8cf0d9985bf86ab": {
     "views": []
    },
    "676d1a0fb08e4c6dac6b388406c26eb1": {
     "views": []
    },
    "68063b0bd3d5440db673bec302520893": {
     "views": []
    },
    "68d672abf7f1457b8b4f7435d4a38039": {
     "views": [
      {
       "cell_index": 6
      }
     ]
    },
    "68fe505f03c244fe870124e8ca1ed7f5": {
     "views": []
    },
    "690d676245f64404a6422647ec2ed37c": {
     "views": []
    },
    "6a62a17c00024736b7373255cfea4fbd": {
     "views": [
      {
       "cell_index": 8
      }
     ]
    },
    "712cc0861b3f4f81a4ec0b232af2da33": {
     "views": []
    },
    "71a812a9d2144649aab451ac7ab37cb6": {
     "views": [
      {
       "cell_index": 12
      }
     ]
    },
    "72964b3bd52f4e1687cc04a32e43ab37": {
     "views": []
    },
    "72e08b4e0bec451ea9cac1fa461cbf58": {
     "views": []
    },
    "72e4da8643294e0ca374783988eebfb9": {
     "views": []
    },
    "7855ba872dfa45a28d6895b66c8c58d5": {
     "views": []
    },
    "796b172c9e104e46b12732c2230da990": {
     "views": []
    },
    "7c5e8481bd544834b6cb0ba4c3073a70": {
     "views": []
    },
    "7e3d31bff4b4427b8a0a98aec66396ee": {
     "views": []
    },
    "7e48c6771a6d44b6a094d23ccde2b696": {
     "views": []
    },
    "7f93057236e34c6e840bcfb91cd4aa8b": {
     "views": []
    },
    "82725a436d514931a0671693819d1a3a": {
     "views": []
    },
    "8286c6fe4bfd4f53a792b08d68e789e3": {
     "views": []
    },
    "83a79f9f120545cf9c2430d98eb5233e": {
     "views": []
    },
    "83f567d551f94a8aa8552cafd20d0c22": {
     "views": []
    },
    "846ff52adc6b43c2859edc5f5da9df19": {
     "views": []
    },
    "848faa54e8f04ee891c110ccbe1d3f2e": {
     "views": []
    },
    "86d870946d9d4dee98c9d0860128040b": {
     "views": []
    },
    "880ff486263d4e849be3125aa0c9dca8": {
     "views": []
    },
    "88c6974868434c5abc11eb09f9bdc077": {
     "views": []
    },
    "8911c97aa8454c13a30f17053f48db46": {
     "views": []
    },
    "8b8bd18c026d4a5abd9ae04d012614ce": {
     "views": []
    },
    "8bfc636d05d44900a7dc84338aa67d1f": {
     "views": []
    },
    "8c31aabaf83c49ebabe46d8ff9da8e25": {
     "views": []
    },
    "8d2534b4459b41ca927e0541f9be645c": {
     "views": []
    },
    "8f4a50b3c05a48639d8815c965781027": {
     "views": []
    },
    "8f7dc0bd7c4245e681548f8a87da8e69": {
     "views": []
    },
    "9195d2978ff640b8846033657efcddf9": {
     "views": []
    },
    "92d3975d09c24f95bffbafaedbd7e4e5": {
     "views": []
    },
    "92f837608f074dd8abf3d56d3e0e88d2": {
     "views": []
    },
    "937175298134457b93fafe8f29671a98": {
     "views": []
    },
    "985fe74bd81b4777865668ea4446f30b": {
     "views": []
    },
    "99f1d9728b434455913a958ea817b590": {
     "views": []
    },
    "9a6acf31b19c4c1db08f0137d9b6f836": {
     "views": []
    },
    "9aa7cef59a9a4a688a0fc4cc56ffba63": {
     "views": []
    },
    "9c792ff8012c4769b520e772d2aa17a5": {
     "views": []
    },
    "9d9589258e0745009e87674c79934441": {
     "views": []
    },
    "9dcb433ddd8d41198d5439bbce978b81": {
     "views": []
    },
    "9efcbc2b909b43fea75641fd39f1c419": {
     "views": []
    },
    "a23a48defb7242fdb99a1e7a6fe06310": {
     "views": []
    },
    "a2e501072e154bcc87ef98979eb063b4": {
     "views": []
    },
    "a34ebd43795d4803b1a3d0c621b24489": {
     "views": [
      {
       "cell_index": 10
      }
     ]
    },
    "a4f3c65688e5425d954d4e3a15a7d958": {
     "views": []
    },
    "a5e29cc7c77949669daa1b3f54e281aa": {
     "views": []
    },
    "a683eeb2f9d1427ead0a2653168e1e63": {
     "views": []
    },
    "a6e620f718854776a824819d2ed4e962": {
     "views": []
    },
    "a717f8e7a2db46b7815809fff36e1946": {
     "views": []
    },
    "a887c8ceea924997bb2d2b6f50be905e": {
     "views": []
    },
    "aaa19e77babb456ba63c493db786ab3d": {
     "views": []
    },
    "ac09624af5824a63b35d726814a19405": {
     "views": [
      {
       "cell_index": 12
      }
     ]
    },
    "ac3b3576775c4ec5a96739b642658131": {
     "views": []
    },
    "ac556526132a423e82d27a3fb3649fb1": {
     "views": []
    },
    "ad024a71398f4674a75e17a652ef9870": {
     "views": []
    },
    "adb8f9a9a53c4212a42d4dd524551f0d": {
     "views": []
    },
    "adfd68e815ed4e00b83f284c05ba1ef8": {
     "views": []
    },
    "af1d444238d24874a0e4b29637715cdf": {
     "views": []
    },
    "b3becd9715094c00bdb53797180dba6d": {
     "views": []
    },
    "b4048d40c5da4aca9d77f5f117a4e374": {
     "views": []
    },
    "b493537401424a1fbc9dba04c5f016fd": {
     "views": []
    },
    "b531f69bafa3456f87e62e658bcc8e47": {
     "views": []
    },
    "b5621c54d827495eb9d8fe23c86d1383": {
     "views": []
    },
    "b6195917bff24dac9cdb97a6cecd578d": {
     "views": []
    },
    "b65315bc7aa0424dac7897eeab87e27c": {
     "views": []
    },
    "b6704d4503cf48f8a321f0894f84d9f4": {
     "views": []
    },
    "b6848bf509384f4581d532c7e10dc7b3": {
     "views": []
    },
    "b6a78f173031499a9ed455b5de7b5450": {
     "views": []
    },
    "b8d086ff0f914e65959c6f924b1ba928": {
     "views": []
    },
    "b955a93a493a41398b70e55e4670d975": {
     "views": []
    },
    "baaf6f1edab94deeab2ace149125e92a": {
     "views": []
    },
    "bacd3a0c3563464f89f5876bf14ec300": {
     "views": []
    },
    "bd452cc860cf4b89a5f94b50e3c3e37f": {
     "views": []
    },
    "bd5923561448470eb312573f9ea886bd": {
     "views": []
    },
    "bde82dd0b15b48ecb3f9e67a93bf9c31": {
     "views": []
    },
    "be38c771b94a46ba99e670e0d077a572": {
     "views": []
    },
    "bf1a43ac159f488e98c8836d26c039b2": {
     "views": []
    },
    "c1e4c46aea7c446bb6d139599c8aea13": {
     "views": []
    },
    "c25850370a1d4813a2c03a93aebc06ce": {
     "views": []
    },
    "c2974468d0ee4528b90d2dd1e24b0902": {
     "views": []
    },
    "c5c86944f4fd4df7a948bcfaf806e1c9": {
     "views": []
    },
    "c606897629dc492daa63c70643e0aabc": {
     "views": []
    },
    "c671734bbdb6460d866d3ec1b671bed3": {
     "views": []
    },
    "c843949912db43aeb652d081547cb701": {
     "views": []
    },
    "c85b24ebdf304d3b83376c4faf1bf81b": {
     "views": []
    },
    "c961568fb4bd4125b679f487661121bf": {
     "views": []
    },
    "cae61b71a7db42b29af2b7b5e57b9c1b": {
     "views": []
    },
    "caf78066a1574c5dad4177c131bb83c8": {
     "views": []
    },
    "cb1282146ac2452388608866f2d8cf6c": {
     "views": []
    },
    "cc39f872b51043f88fc927a08187dea6": {
     "views": []
    },
    "cc9dc2107c9e4b37ae76a9fd8895d7ac": {
     "views": []
    },
    "ccbb4c37afce46059ddde0e70697ae7b": {
     "views": []
    },
    "cd1735322a6e4b3fabc4a45bcf55436c": {
     "views": []
    },
    "cdab11b7de504d19a0da7f74cb414166": {
     "views": []
    },
    "cea88bd3d9d04ebebfafa707b5dda4ab": {
     "views": []
    },
    "cf157a34ea5c48d69590ccaeed1f2a71": {
     "views": []
    },
    "d222c8e6725449a1999e626bdf5a55b7": {
     "views": []
    },
    "d30040c4a89240c294bce680382cacb8": {
     "views": []
    },
    "d403d0ec70494e1c89dd18f32052fe26": {
     "views": []
    },
    "d46fa61080c240fdb78bfd6c4155d366": {
     "views": []
    },
    "d560916094354abba65cdb88a6870a78": {
     "views": []
    },
    "d6aa346a37c64197897a3e1c18349b43": {
     "views": []
    },
    "d7c48343115348fda1ea3dd7f7cdc8da": {
     "views": []
    },
    "d8e3833c018d4249b3de7c8ecc8abe2a": {
     "views": []
    },
    "d8f310c90db0449d83646c4acefa2e0e": {
     "views": []
    },
    "d9066b3b84a04d98a3976c2c030b63ca": {
     "views": []
    },
    "defbc4dd6b814dab8b562adbd6509ce3": {
     "views": []
    },
    "dfa91d48153a4ff2bf5d1e1ca5cc7fab": {
     "views": []
    },
    "e1c58cb5209646bea97fefaabaac71d5": {
     "views": []
    },
    "e40d54886f8147c088d312795dfeac55": {
     "views": []
    },
    "e517910dd6824099bd619bf898e2302c": {
     "views": []
    },
    "e7c4a87157754577b699e46772be27a6": {
     "views": []
    },
    "e8a0a23b69714cf2ac70241a8a0807d1": {
     "views": []
    },
    "e92a566b928e454fa1de4b917b24753d": {
     "views": []
    },
    "e9cb17b1c20a4d5d9a0edeade5df14ef": {
     "views": []
    },
    "eb54782cd6bd4ac499f0bdc3d81187e4": {
     "views": []
    },
    "ebd13493fab54d268f4e5883761f6c39": {
     "views": []
    },
    "ec6deb9d0cb945d5b2a708cfe2901062": {
     "views": []
    },
    "ecbac5da979840a7ba89fd2b4873923b": {
     "views": []
    },
    "ecd7dc81d0a0444cab2fa12d5e0464cd": {
     "views": []
    },
    "ed96b69cb755467bacd50933bd0e316e": {
     "views": []
    },
    "eea4dbe47b734d0c8a3272d1ada053ea": {
     "views": []
    },
    "ef47e7264fdb4815b6048ae26a913d7d": {
     "views": []
    },
    "f00c099fc01045619159149af2c5dd33": {
     "views": []
    },
    "f6ce48eded644448af06b114c228499b": {
     "views": []
    },
    "f7e24a5c9aff4a2c8964eea05c99f087": {
     "views": []
    },
    "fab816f9efad4dd4b5301e495f0ea645": {
     "views": []
    },
    "ffa8a7a02ea4434082fd3a88a57a61ae": {
     "views": []
    }
   },
   "version": "1.1.2"
  }
 },
 "nbformat": 4,
 "nbformat_minor": 0
}
